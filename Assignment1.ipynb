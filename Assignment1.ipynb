{
  "nbformat": 4,
  "nbformat_minor": 0,
  "metadata": {
    "colab": {
      "name": "Assignment1.ipynb",
      "provenance": [],
      "collapsed_sections": [],
      "authorship_tag": "ABX9TyNzzd8VE9JzMYL0qTNEVbjK",
      "include_colab_link": true
    },
    "kernelspec": {
      "name": "python3",
      "display_name": "Python 3"
    },
    "accelerator": "GPU"
  },
  "cells": [
    {
      "cell_type": "markdown",
      "metadata": {
        "id": "view-in-github",
        "colab_type": "text"
      },
      "source": [
        "<a href=\"https://colab.research.google.com/github/artemisyang/LS_assignment1_Artemis/blob/master/Assignment1.ipynb\" target=\"_parent\"><img src=\"https://colab.research.google.com/assets/colab-badge.svg\" alt=\"Open In Colab\"/></a>"
      ]
    },
    {
      "cell_type": "code",
      "metadata": {
        "id": "DHVLqx2S7FAN",
        "colab_type": "code",
        "outputId": "74d3e308-58e7-41bf-a330-ceee31683679",
        "colab": {
          "base_uri": "https://localhost:8080/",
          "height": 326
        }
      },
      "source": [
        "! pip install pyopencl mako\n",
        "! pip install mpi4py"
      ],
      "execution_count": 0,
      "outputs": [
        {
          "output_type": "stream",
          "text": [
            "Requirement already satisfied: pyopencl in /usr/local/lib/python3.6/dist-packages (2020.1)\n",
            "Requirement already satisfied: mako in /usr/local/lib/python3.6/dist-packages (1.1.2)\n",
            "Requirement already satisfied: decorator>=3.2.0 in /usr/local/lib/python3.6/dist-packages (from pyopencl) (4.4.2)\n",
            "Requirement already satisfied: six>=1.9.0 in /usr/local/lib/python3.6/dist-packages (from pyopencl) (1.12.0)\n",
            "Requirement already satisfied: numpy in /usr/local/lib/python3.6/dist-packages (from pyopencl) (1.18.3)\n",
            "Requirement already satisfied: appdirs>=1.4.0 in /usr/local/lib/python3.6/dist-packages (from pyopencl) (1.4.3)\n",
            "Requirement already satisfied: pytools>=2017.6 in /usr/local/lib/python3.6/dist-packages (from pyopencl) (2020.1)\n",
            "Requirement already satisfied: MarkupSafe>=0.9.2 in /usr/local/lib/python3.6/dist-packages (from mako) (1.1.1)\n",
            "Collecting mpi4py\n",
            "  Using cached https://files.pythonhosted.org/packages/ec/8f/bbd8de5ba566dd77e408d8136e2bab7fdf2b97ce06cab830ba8b50a2f588/mpi4py-3.0.3.tar.gz\n",
            "Building wheels for collected packages: mpi4py\n",
            "  Building wheel for mpi4py (setup.py) ... \u001b[?25l\u001b[?25hdone\n",
            "  Created wheel for mpi4py: filename=mpi4py-3.0.3-cp36-cp36m-linux_x86_64.whl size=2074431 sha256=207768c2152e6cc17178dcf979087385644a9b0d607945328bbe2f5ece27c72e\n",
            "  Stored in directory: /root/.cache/pip/wheels/18/e0/86/2b713dd512199096012ceca61429e12b960888de59818871d6\n",
            "Successfully built mpi4py\n",
            "Installing collected packages: mpi4py\n",
            "Successfully installed mpi4py-3.0.3\n"
          ],
          "name": "stdout"
        }
      ]
    },
    {
      "cell_type": "code",
      "metadata": {
        "id": "wishkZaTuRNR",
        "colab_type": "code",
        "outputId": "f33d7611-0c5a-454c-e78d-1b9425003304",
        "colab": {
          "base_uri": "https://localhost:8080/",
          "height": 34
        }
      },
      "source": [
        "import numpy as np\n",
        "import queue\n",
        "import time\n",
        "import scipy.stats as sts\n",
        "from sklearn.model_selection import GridSearchCV, KFold\n",
        "# Set model parameters\n",
        "\n",
        "t0 = time.time()\n",
        "\n",
        "rho = 0.5\n",
        "mu = 3.0\n",
        "sigma = 1.0\n",
        "z_0 = mu\n",
        "# Set simulation parameters, draw all idiosyncratic random shocks,\n",
        "# and create empty containers\n",
        "S = 5 # Set the number of lives to simulate\n",
        "T = int(10) # Set the number of periods for each simulation\n",
        "np.random.seed(25)\n",
        "eps_mat = sts.norm.rvs(loc=0, scale=sigma, size=(T, S))\n",
        "#print(eps_mat)\n",
        "\n",
        "z_mat = np.zeros((T, S))\n",
        "#z_mat[0, :] = z_0\n",
        "\n",
        "for s_ind in range(S):\n",
        "    z_tm1 = z_0\n",
        "    #print(z_tm1)\n",
        "    for t_ind in range(T):\n",
        "        e_t = eps_mat[t_ind, s_ind]\n",
        "        #print(e_t)\n",
        "        z_t = rho * z_tm1 + (1 - rho) * mu + e_t\n",
        "        #print(z_t)\n",
        "        z_mat[t_ind, s_ind] = z_t\n",
        "        #print(z_mat)\n",
        "        z_tm1 = z_t\n",
        "        #print(z_tm1)\n",
        "#print(z_mat)\n",
        "\n",
        "final_time = time.time()\n",
        "time_elapsed = final_time - t0\n",
        "\n",
        "# Print simulation results\n",
        "print(\"Simulated %d lifetimes in: %f seconds\"\n",
        "                % (S, time_elapsed)) "
      ],
      "execution_count": 0,
      "outputs": [
        {
          "output_type": "stream",
          "text": [
            "Simulated 5 lifetimes in: 0.005003 seconds\n"
          ],
          "name": "stdout"
        }
      ]
    },
    {
      "cell_type": "markdown",
      "metadata": {
        "id": "rgKQyfcpqspA",
        "colab_type": "text"
      },
      "source": [
        "1.(a) The code from files that I ran on Midway RCC are attached. The plot is for 1-100 CPU cores."
      ]
    },
    {
      "cell_type": "code",
      "metadata": {
        "id": "qW5bAcp-i5Y2",
        "colab_type": "code",
        "colab": {}
      },
      "source": [
        "# 1.(a) code from q1.sbatch file\n",
        "\n",
        "#!/bin/bash\n",
        "\n",
        "#SBATCH --job-name=q1\n",
        "#SBATCH --partition=broadwl\n",
        "#SBATCH --constraint=fdr\n",
        "#SBATCH --ntasks=150\n",
        "#SBATCH --output=q1.out\n",
        "\n",
        "# Load the default mpi4py/Anaconda module.\n",
        " module load mpi4py/3.0.1a0_py3\n",
        " \n",
        "# Run the python program with mpirun, using & to run jobs at the same time\n",
        "  for i in {1..100}\n",
        "  do\n",
        "    mpirun -n $i python ./health_index.py\n",
        "  done\n",
        " \n",
        "# Wait until all simultaneous mpiruns are done\n",
        " wait"
      ],
      "execution_count": 0,
      "outputs": []
    },
    {
      "cell_type": "code",
      "metadata": {
        "id": "33eWMEarjMGC",
        "colab_type": "code",
        "colab": {}
      },
      "source": [
        "# 1.(a) code from health_index.py file\n",
        "\n",
        "from mpi4py import MPI\n",
        "import matplotlib.pyplot as plt\n",
        "import numpy as np\n",
        "import time\n",
        "import scipy.stats as sts\n",
        "    \n",
        "def sim_health_index():\n",
        "\n",
        "    # Get rank of process and overall size of communicator:\n",
        "    comm = MPI.COMM_WORLD\n",
        "    rank = comm.Get_rank()\n",
        "    size = comm.Get_size()\n",
        "    \n",
        "    # Start time:\n",
        "    t0 = time.time()\n",
        "   \n",
        "    # Set model parameters\n",
        "    rho = 0.5\n",
        "    mu = 3.0\n",
        "    sigma = 1.0\n",
        "    z_0 = mu\n",
        "\n",
        "    # Set simulation parameters\n",
        "    S = 1000 # Set the number of lives to simulate\n",
        "    T = int(4160) # Set the number of periods for each simulation\n",
        "\n",
        "    # Evenly distribute number of simulation runs across processes\n",
        "    N = int(S/size)\n",
        "\n",
        "    # Draw all idiosyncratic random shocks and create empty containers\n",
        "    np.random.seed(25)\n",
        "    eps_mat = sts.norm.rvs(loc=0, scale=sigma, size=(T, N))\n",
        "    z_mat = np.zeros((T, N))\n",
        "    z_mat[0, :] = z_0\n",
        "\n",
        "    for s_ind in range(N):\n",
        "        z_tm1 = z_0\n",
        "        for t_ind in range(T):\n",
        "            e_t = eps_mat[t_ind, s_ind]\n",
        "            z_t = rho * z_tm1 + (1 - rho) * mu + e_t\n",
        "            z_mat[t_ind, s_ind] = z_t\n",
        "            z_tm1 = z_t\n",
        "\n",
        "  # Gather all simulation arrays to buffer on rank 0\n",
        "    z_mat_all = None\n",
        "    if rank == 0:\n",
        "       z_mat_all = np.empty([T, int(N*size)], dtype = 'float')\n",
        "    comm.Gather(sendbuf=z_mat, recvbuf=z_mat_all, root=0)\n",
        "    #comm.gather(z_mat, root=0)\n",
        "     \n",
        "  # Print simulation results on rank 0\n",
        "    if rank == 0:\n",
        "     # Calculate time elapsed\n",
        "       time_elapsed = time.time() - t0\n",
        "     # Print(time_elapsed)\n",
        "       print(\"Simulated lifetimes in: %f seconds on %d MPI processes\"\n",
        "                % (time_elapsed, size))     \n",
        "   \n",
        "    return\n",
        "\n",
        "def main():\n",
        "    sim_health_index()\n",
        "\n",
        "if __name__ == '__main__':\n",
        "    main()"
      ],
      "execution_count": 0,
      "outputs": []
    },
    {
      "cell_type": "code",
      "metadata": {
        "id": "ASyZTHNvPXLf",
        "colab_type": "code",
        "colab": {
          "resources": {
            "http://localhost:8080/nbextensions/google.colab/files.js": {
              "data": "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",
              "ok": true,
              "headers": [
                [
                  "content-type",
                  "application/javascript"
                ]
              ],
              "status": 200,
              "status_text": ""
            }
          },
          "base_uri": "https://localhost:8080/",
          "height": 354
        },
        "outputId": "3899f68e-3f87-458e-a1bc-68317081ace3"
      },
      "source": [
        "# 1.(a) plot\n",
        "\n",
        "import pandas as pd\n",
        "from google.colab import files\n",
        "uploaded = files.upload()\n",
        "import matplotlib.pyplot as plt\n",
        "\n",
        "df = pd.read_csv(\"q1.csv\", names=[\"Number of MPI processes\", \"Running time (in seconds)\"])\n",
        "df.plot(x=\"Number of MPI processes\",y=\"Running time (in seconds)\")\n"
      ],
      "execution_count": 22,
      "outputs": [
        {
          "output_type": "display_data",
          "data": {
            "text/html": [
              "\n",
              "     <input type=\"file\" id=\"files-45cac37a-6dbf-48c1-8d97-a92621f2d831\" name=\"files[]\" multiple disabled />\n",
              "     <output id=\"result-45cac37a-6dbf-48c1-8d97-a92621f2d831\">\n",
              "      Upload widget is only available when the cell has been executed in the\n",
              "      current browser session. Please rerun this cell to enable.\n",
              "      </output>\n",
              "      <script src=\"/nbextensions/google.colab/files.js\"></script> "
            ],
            "text/plain": [
              "<IPython.core.display.HTML object>"
            ]
          },
          "metadata": {
            "tags": []
          }
        },
        {
          "output_type": "stream",
          "text": [
            "Saving q1.csv to q1 (15).csv\n"
          ],
          "name": "stdout"
        },
        {
          "output_type": "execute_result",
          "data": {
            "text/plain": [
              "<matplotlib.axes._subplots.AxesSubplot at 0x7f6c8891b550>"
            ]
          },
          "metadata": {
            "tags": []
          },
          "execution_count": 22
        },
        {
          "output_type": "display_data",
          "data": {
            "image/png": "[encoded data removed]",
            "text/plain": [
              "<Figure size 432x288 with 1 Axes>"
            ]
          },
          "metadata": {
            "tags": [],
            "needs_background": "light"
          }
        }
      ]
    },
    {
      "cell_type": "markdown",
      "metadata": {
        "id": "jlED988qYvAV",
        "colab_type": "text"
      },
      "source": [
        "1.(b) The speedup is not linear because"
      ]
    },
    {
      "cell_type": "markdown",
      "metadata": {
        "id": "1w3lBaDrpUIi",
        "colab_type": "text"
      },
      "source": [
        "2.(a) Using the elementwise kernel, it takes 1.03 seconds to run. Using the scan kernel, it only takes 0.56 seconds to run. However, there is some unknown calculation error in the scan kernel, so it doesn't return the correct values. Therefore I will still use the elementwise kernel.\n",
        "(b) Compared with the mpi4py implementation, the PyOpenCL implementation costs very similar amount of time."
      ]
    },
    {
      "cell_type": "code",
      "metadata": {
        "id": "pZsZxUvWnMTd",
        "colab_type": "code",
        "outputId": "542430c8-b25c-4203-8ea1-2b796c2a7e05",
        "colab": {
          "base_uri": "https://localhost:8080/",
          "height": 153
        }
      },
      "source": [
        "#2.(a) with elementwise kernel\n",
        "\n",
        "import pyopencl as cl\n",
        "import numpy as np\n",
        "import pyopencl.array as cl_array\n",
        "import pyopencl.clrandom as clrand\n",
        "import pyopencl.tools as cltools\n",
        "from pyopencl.elementwise import ElementwiseKernel\n",
        "import matplotlib.pyplot as plt\n",
        "import time\n",
        "import scipy.stats as sts\n",
        "\n",
        "def sim_health_index():\n",
        "\n",
        "  # Set up context and command queue\n",
        "  ctx = cl.create_some_context()\n",
        "  queue = cl.CommandQueue(ctx)\n",
        "    \n",
        "  # Start time:\n",
        "  t0 = time.time()\n",
        "   \n",
        "  # Set model parameters\n",
        "  S = 1000 # Set the number of lives to simulate\n",
        "  T = int(4160) # Set the number of periods for each simulation\n",
        "  rho = 0.5\n",
        "  mu = 3.0\n",
        "  np.random.seed(25)\n",
        "  z_mat = np.zeros((T, S), dtype=np.float32)\n",
        "  \n",
        "  # Generate array of random shocks\n",
        "  init_np = np.zeros(S).astype(np.float32) + mu\n",
        "  epsm_np = sts.norm.rvs(loc=0,scale=1.0,size=T*S).astype(np.float32)\n",
        "\n",
        "  init_g = cl.array.to_device(queue, init_np)\n",
        "  epsm_g = cl.array.to_device(queue, epsm_np)\n",
        "  \n",
        "  # GPU: Define Elementwise Kernel\n",
        "  prefix_sum = ElementwiseKernel(ctx,\n",
        "                                 \"float *a_g, float *b_g, float *res_g, float rho, float mu\",\n",
        "                                 \"res_g[i] = rho * a_g[i]+(1-rho)*mu + b_g[i]\")\n",
        "  \n",
        "  # Allocate space for result of kernel on device\n",
        "  dev_result = cl_array.empty_like(epsm_g)\n",
        "\n",
        "  # Enqueue and Run Elementwise Kernel\n",
        "  prefix_sum(init_g, epsm_g[:S], dev_result[:S], rho, mu)\n",
        "  [prefix_sum(dev_result[S*(i-1):S*i], epsm_g[S*i:S*(i+1)],\n",
        "              dev_result[S*i:S*(i+1)], rho, mu) for i in range(1,T)]\n",
        "\n",
        "  # Get results back on CPU\n",
        "  z_all = dev_result.get().reshape(T,S)\n",
        "\n",
        "# Print simulation results\n",
        "  print(z_all)\n",
        "\n",
        "  final_time = time.time()\n",
        "  time_elapsed = final_time - t0\n",
        "  print(\"Simulated %d lifetimes in: %f seconds\"\n",
        "               % (S, time_elapsed)) \n",
        "\n",
        "  return\n",
        "\n",
        "def main():\n",
        "    sim_health_index()\n",
        "\n",
        "if __name__ == '__main__':\n",
        "    main()"
      ],
      "execution_count": 0,
      "outputs": [
        {
          "output_type": "stream",
          "text": [
            "[[3.2282732  4.0268903  2.1604152  ... 3.5980616  4.2172623  4.2740126 ]\n",
            " [2.7241552  2.7610037  1.8453364  ... 4.562945   4.1576777  2.4020617 ]\n",
            " [0.88323987 3.602325   1.863601   ... 3.6887615  3.2543025  3.5586102 ]\n",
            " ...\n",
            " [5.7436695  2.7490346  3.707395   ... 1.8711723  1.6462877  2.4367635 ]\n",
            " [5.444686   3.167647   4.440064   ... 2.866872   3.2936373  2.6143126 ]\n",
            " [3.721859   4.119889   4.6702805  ... 2.063307   3.2129734  2.634847  ]]\n",
            "Simulated 1000 lifetimes in: 1.025692 seconds\n"
          ],
          "name": "stdout"
        }
      ]
    },
    {
      "cell_type": "code",
      "metadata": {
        "id": "8R5iGWiA6F_N",
        "colab_type": "code",
        "outputId": "83dbdfe2-517c-4e46-f80b-6380f049331f",
        "colab": {
          "base_uri": "https://localhost:8080/",
          "height": 255
        }
      },
      "source": [
        "# 2.(a) with scan kernel\n",
        "import numpy as np \n",
        "import pyopencl as cl\n",
        "import pyopencl.array as cl_array\n",
        "import pyopencl.clrandom as clrand\n",
        "import pyopencl.tools as cltools\n",
        "from pyopencl.scan import GenericScanKernel\n",
        "import matplotlib.pyplot as plt\n",
        "import time\n",
        "import scipy.stats as sts\n",
        "\n",
        "def sim_health_index():\n",
        "\n",
        "  # Set up context and command queue\n",
        "  ctx = cl.create_some_context()\n",
        "  queue = cl.CommandQueue(ctx)\n",
        "    \n",
        "  # Start time:\n",
        "  t0 = time.time()\n",
        "   \n",
        "  # Set model parameters\n",
        "  S = 1000 # Set the number of lives to simulate\n",
        "  T = int(4160) # Set the number of periods for each simulation\n",
        "  np.random.seed(25)\n",
        "  z_mat = np.zeros((T, S), dtype=np.float32)\n",
        "  \n",
        "  # Generate array of random shocks\n",
        "  rand_gen = clrand.PhiloxGenerator(ctx)\n",
        "  ran = rand_gen.normal(queue, (S*T), np.float32, mu=0, sigma=1)\n",
        "  #print(ran)\n",
        "\n",
        "  # Change the value for the first row to account for the initial value of z_t\n",
        "  for z in range(S):\n",
        "    z = z * T - T\n",
        "    ran[z] = ran[z] + 3\n",
        "  \n",
        "  # Establish boundaries for each simulated \n",
        "  seg_boundaries = [1] + [0] * (T - 1) \n",
        "  seg_boundaries = np.array(seg_boundaries, dtype=np.uint8)\n",
        "  #print(seg_boundaries)\n",
        "  seg_boundary_flags = np.tile(seg_boundaries, int(S))\n",
        "  seg_boundary_flags = cl_array.to_device(queue, seg_boundary_flags)\n",
        "  #print(seg_boundary_flags)\n",
        "  \n",
        "  # GPU: Define Segmented Scan Kernel\n",
        "  prefix_sum = GenericScanKernel(ctx, np.float32,\n",
        "               arguments=\"__global float *ary, __global char *segflags, \"\n",
        "                   \"__global float *out\",\n",
        "               input_expr=\"ary[i]\",\n",
        "               scan_expr=\"across_seg_boundary ? b : (b+a*0.5+1.5)\", neutral=\"0\",\n",
        "               is_segment_start_expr=\"segflags[i]\",\n",
        "               output_statement=\"out[i] = item\",\n",
        "               options=[])\n",
        "  \n",
        "  # Allocate space for result of kernel on device\n",
        "  dev_result = cl_array.empty_like(ran)\n",
        "\n",
        "  # Enqueue and Run Scan Kernel\n",
        "  prefix_sum(ran, seg_boundary_flags, dev_result)\n",
        "\n",
        "  # Get results back on CPU\n",
        "  z_all = (dev_result.get()\n",
        "                     .reshape(S, T)\n",
        "                     .transpose()\n",
        "                         )\n",
        "\n",
        "# Print simulation results\n",
        "  print(z_all)\n",
        "\n",
        "  final_time = time.time()\n",
        "  time_elapsed = final_time - t0\n",
        "  print(\"Simulated %d lifetimes in: %f seconds\"\n",
        "                % (S, time_elapsed)) \n",
        "\n",
        "  return\n",
        "\n",
        "def main():\n",
        "    sim_health_index()\n",
        "\n",
        "if __name__ == '__main__':\n",
        "    main()"
      ],
      "execution_count": 0,
      "outputs": [
        {
          "output_type": "stream",
          "text": [
            "[[ 1.7603674   1.3107433   3.5322912  ...  2.155868    2.7883685\n",
            "   3.4775534 ]\n",
            " [ 3.739502    1.0686312   1.7670852  ...  2.6313999   2.5557666\n",
            "   2.2458172 ]\n",
            " [ 2.4264278   1.2312961   3.9093     ...  0.98635244  2.1175416\n",
            "   4.247703  ]\n",
            " ...\n",
            " [55.848923    8.316638   56.03035    ... 56.417202   45.23037\n",
            "  56.336647  ]\n",
            " [57.62812     7.7891817  56.998714   ... 57.708862   44.673553\n",
            "  55.75264   ]\n",
            " [56.930126    8.129516   58.808624   ... 57.86271    44.700035\n",
            "  53.02154   ]]\n",
            "Simulated 1000 lifetimes in: 0.563026 seconds\n"
          ],
          "name": "stdout"
        }
      ]
    },
    {
      "cell_type": "code",
      "metadata": {
        "id": "q1crCHjVWYNI",
        "colab_type": "code",
        "colab": {}
      },
      "source": [
        "! mpirun --allow-run-as-root -n 5 python q3a.py"
      ],
      "execution_count": 0,
      "outputs": []
    },
    {
      "cell_type": "markdown",
      "metadata": {
        "id": "ZOVNTf7ldtYl",
        "colab_type": "text"
      },
      "source": [
        "3.(a) With 20 CPU cores, the running time is 1290.3 seconds. The code from files that I ran on Midway RCC are attached:"
      ]
    },
    {
      "cell_type": "code",
      "metadata": {
        "id": "HdekdnhUiQMn",
        "colab_type": "code",
        "colab": {}
      },
      "source": [
        "# 3.(a) code from q3a.sbatch file\n",
        "\n",
        "#!/bin/bash\n",
        "\n",
        "#SBATCH --job-name=q3\n",
        "#SBATCH --partition=broadwl\n",
        "#SBATCH --constraint=fdr\n",
        "#SBATCH --mem-per-cpu=2G\n",
        "\n",
        "# Load the default mpi4py/Anaconda module.\n",
        " module load mpi4py/3.0.1a0_py3\n",
        " \n",
        "# Run the python program with mpirun, using & to run jobs at the same time\n",
        " \n",
        " mpirun -n 20 python ./q3a.py"
      ],
      "execution_count": 0,
      "outputs": []
    },
    {
      "cell_type": "code",
      "metadata": {
        "id": "jJybPqcOmIQ6",
        "colab_type": "code",
        "colab": {}
      },
      "source": [
        "# 3.(a) code from q3a.py file\n",
        "\n",
        "from mpi4py import MPI\n",
        "import matplotlib.pyplot as plt\n",
        "import numpy as np\n",
        "import time\n",
        "import scipy.stats as sts\n",
        "    \n",
        "def sim_health_index():\n",
        "\n",
        " # Start time\n",
        "    t0 = time.time()\n",
        "    \n",
        "    # Run the health simulation program\n",
        "    rho_array = np.linspace(-0.95,0.95,200)\n",
        "    avg =[]\n",
        "    \n",
        "    for r in rho_array:\n",
        "    \n",
        "        # Get rank of process and overall size of communicator:\n",
        "        comm = MPI.COMM_WORLD\n",
        "        rank = comm.Get_rank()\n",
        "        size = comm.Get_size()\n",
        "   \n",
        "        # Set model parameters\n",
        "        rho = r\n",
        "        mu = 3.0\n",
        "        sigma = 1.0\n",
        "        z_0 = mu\n",
        "\n",
        "        # Set simulation parameters\n",
        "        S = 1000 # Set the number of lives to simulate\n",
        "        T = int(4160) # Set the number of periods for each simulation\n",
        "\n",
        "        # Evenly distribute number of simulation runs across processes\n",
        "        N = int(S/size)\n",
        "\n",
        "        # Draw all idiosyncratic random shocks and create empty containers\n",
        "        eps_mat = sts.norm.rvs(loc=0, scale=sigma, size=(T, N))\n",
        "        z_mat = np.zeros((T, N))\n",
        "        z_mat[0, :] = z_0\n",
        "    \n",
        "        # Create an array to store the index for first negative z_t\n",
        "        neg_index = np.full(N,fill_value = T+1)\n",
        "\n",
        "        # Create the health index matrix\n",
        "        for s_ind in range(N):\n",
        "            z_tm1 = z_0\n",
        "            for t_ind in range(T):\n",
        "                e_t = eps_mat[t_ind, s_ind]\n",
        "                z_t = rho * z_tm1 + (1 - rho) * mu + e_t\n",
        "                z_mat[t_ind, s_ind] = z_t\n",
        "                z_tm1 = z_t\n",
        "                if z_tm1<0:\n",
        "                  if neg_index[s_ind] == T+1:\n",
        "                     neg_index[s_ind] = t_ind+1\n",
        "\n",
        "        # Gather all simulation arrays to buffer on rank 0\n",
        "        neg_all = comm.gather(neg_index, root = 0)\n",
        "     \n",
        "        # Return average number of periods on rank 0\n",
        "        if rank == 0:\n",
        "           mean = np.mean(neg_all)\n",
        "           avg.append(mean)\n",
        "           \n",
        "    if rank == 0:\n",
        "        \n",
        "       # Get optimal rho value\n",
        "       ind = avg.index(max(avg))\n",
        "       opt = rho_array[ind]\n",
        "       max_avg = max(avg)\n",
        "    \n",
        "       # End time\n",
        "       time_elapsed = time.time() - t0\n",
        "\n",
        "       # Print simulation results\n",
        "       print(\"Simulated in %f seconds, Optimal rho value = %f, Average periods = %f\"\n",
        "                % (time_elapsed, opt, max_avg)) \n",
        "       print(rho_array)\n",
        "       print(avg)\n",
        "\n",
        "def main():\n",
        "   sim_health_index()\n",
        "          \n",
        "if __name__ == '__main__':\n",
        "    main()"
      ],
      "execution_count": 0,
      "outputs": []
    },
    {
      "cell_type": "markdown",
      "metadata": {
        "id": "XaKbX1F0oLNw",
        "colab_type": "text"
      },
      "source": [
        "3.(b) \n",
        "Using GPU to run the same program, the optimal $\\rho$ value is 0.033417 and the average number of periods is 755.71. Computation time becomes 1471 seconds. "
      ]
    },
    {
      "cell_type": "code",
      "metadata": {
        "id": "LdKsoB94cKAr",
        "colab_type": "code",
        "outputId": "25cc8e97-78ec-47ed-95bb-94d5f611c883",
        "colab": {
          "base_uri": "https://localhost:8080/",
          "height": 34
        }
      },
      "source": [
        "# 3.(b) grid search with OpenCL\n",
        "\n",
        "import pyopencl as cl\n",
        "import pyopencl.array as cl_array\n",
        "import pyopencl.clrandom as clrand\n",
        "import pyopencl.tools as cltools\n",
        "from pyopencl.elementwise import ElementwiseKernel\n",
        "import matplotlib.pyplot as plt\n",
        "import numpy as np\n",
        "import time\n",
        "import scipy.stats as sts\n",
        "\n",
        "def sim_health_index(r):\n",
        "\n",
        "  # Set up context and command queue\n",
        "  ctx = cl.create_some_context()\n",
        "  queue = cl.CommandQueue(ctx)\n",
        "    \n",
        "  # Start time:\n",
        "  t0 = time.time()\n",
        "   \n",
        "  # Set model parameters\n",
        "  S = 1000 # Set the number of lives to simulate\n",
        "  T = int(4160) # Set the number of periods for each simulation\n",
        "  rho = r\n",
        "  mu = 3.0\n",
        "  np.random.seed(25)\n",
        "  z_mat = np.zeros((T, S), dtype=np.float32)\n",
        "  \n",
        "  # Generate array of random shocks\n",
        "  init_np = np.zeros(S).astype(np.float32) + mu\n",
        "  epsm_np = sts.norm.rvs(loc=0,scale=1.0,size=T*S).astype(np.float32)\n",
        "\n",
        "  init_g = cl.array.to_device(queue, init_np)\n",
        "  epsm_g = cl.array.to_device(queue, epsm_np)\n",
        "  \n",
        "  # GPU: Define Segmented Elementwise Kernel\n",
        "  prefix_sum = ElementwiseKernel(ctx,\n",
        "                                 \"float *a_g, float *b_g, float *res_g, float rho, float mu\",\n",
        "                                 \"res_g[i] = rho * a_g[i]+(1-rho)*mu + b_g[i]\")\n",
        "  \n",
        "  # Allocate space for result of kernel on device\n",
        "  dev_result = cl_array.empty_like(epsm_g)\n",
        "\n",
        "  # Enqueue and Run Elementwise Kernel\n",
        "  prefix_sum(init_g, epsm_g[:S], dev_result[:S], rho, mu)\n",
        "  [prefix_sum(dev_result[S*(i-1):S*i], epsm_g[S*i:S*(i+1)],\n",
        "              dev_result[S*i:S*(i+1)], rho, mu) for i in range(1,T)]\n",
        "\n",
        "  # Get results back on CPU\n",
        "  z_all = dev_result.get().reshape(T,S)\n",
        "\n",
        "  # Create an array to store the index for first negative z_t\n",
        "  neg_index = np.full(S,fill_value = T+1)\n",
        "\n",
        "  # Print simulation results\n",
        "  for s in range(S):\n",
        "    for t in range(T):\n",
        "      if z_all[t,s] < 0:\n",
        "        if neg_index[s] == T+1:\n",
        "           neg_index[s] = t+1\n",
        "  mean = np.mean(neg_index)\n",
        "  return mean\n",
        "\n",
        "def main():\n",
        "    # Start time\n",
        "    t0 = time.time()\n",
        "    \n",
        "    # Run the health simulation program\n",
        "    rho_array = np.linspace(-0.95,0.95,200)\n",
        "    avg =[]\n",
        "    for r in rho_array:\n",
        "        avg.append(sim_health_index(r))\n",
        "\n",
        "    # Get optimal rho value\n",
        "    ind = avg.index(max(avg))\n",
        "    opt = rho_array[ind]\n",
        "    max_avg = max(avg)\n",
        "    \n",
        "    # End time\n",
        "    time_elapsed = time.time() - t0\n",
        "\n",
        "    # Print simulation results\n",
        "    print(\"Simulated in %f seconds, Optimal rho value = %f, Average periods = %f\"\n",
        "                % (time_elapsed, opt, max_avg)) \n",
        "  \n",
        "if __name__ == '__main__':\n",
        "    main()"
      ],
      "execution_count": 0,
      "outputs": [
        {
          "output_type": "stream",
          "text": [
            "Simulated in 1470.674404 seconds, Optimal rho value = 0.033417, Average periods = 755.710000\n"
          ],
          "name": "stdout"
        }
      ]
    },
    {
      "cell_type": "markdown",
      "metadata": {
        "id": "Pzdf-PLxfEu6",
        "colab_type": "text"
      },
      "source": [
        "3.(c) I use the results from the MPI implementation for the plot. The plot indicates that rho values close to 0 tend to have larger average periods to negative health index."
      ]
    },
    {
      "cell_type": "code",
      "metadata": {
        "id": "7Q0-7CoIfWuO",
        "colab_type": "code",
        "colab": {
          "resources": {
            "http://localhost:8080/nbextensions/google.colab/files.js": {
              "data": "Ly8gQ29weXJpZ2h0IDIwMTcgR29vZ2xlIExMQwovLwovLyBMaWNlbnNlZCB1bmRlciB0aGUgQXBhY2hlIExpY2Vuc2UsIFZlcnNpb24gMi4wICh0aGUgIkxpY2Vuc2UiKTsKLy8geW91IG1heSBub3QgdXNlIHRoaXMgZmlsZSBleGNlcHQgaW4gY29tcGxpYW5jZSB3aXRoIHRoZSBMaWNlbnNlLgovLyBZb3UgbWF5IG9idGFpbiBhIGNvcHkgb2YgdGhlIExpY2Vuc2UgYXQKLy8KLy8gICAgICBodHRwOi8vd3d3LmFwYWNoZS5vcmcvbGljZW5zZXMvTElDRU5TRS0yLjAKLy8KLy8gVW5sZXNzIHJlcXVpcmVkIGJ5IGFwcGxpY2FibGUgbGF3IG9yIGFncmVlZCB0byBpbiB3cml0aW5nLCBzb2Z0d2FyZQovLyBkaXN0cmlidXRlZCB1bmRlciB0aGUgTGljZW5zZSBpcyBkaXN0cmlidXRlZCBvbiBhbiAiQVMgSVMiIEJBU0lTLAovLyBXSVRIT1VUIFdBUlJBTlRJRVMgT1IgQ09ORElUSU9OUyBPRiBBTlkgS0lORCwgZWl0aGVyIGV4cHJlc3Mgb3IgaW1wbGllZC4KLy8gU2VlIHRoZSBMaWNlbnNlIGZvciB0aGUgc3BlY2lmaWMgbGFuZ3VhZ2UgZ292ZXJuaW5nIHBlcm1pc3Npb25zIGFuZAovLyBsaW1pdGF0aW9ucyB1bmRlciB0aGUgTGljZW5zZS4KCi8qKgogKiBAZmlsZW92ZXJ2aWV3IEhlbHBlcnMgZm9yIGdvb2dsZS5jb2xhYiBQeXRob24gbW9kdWxlLgogKi8KKGZ1bmN0aW9uKHNjb3BlKSB7CmZ1bmN0aW9uIHNwYW4odGV4dCwgc3R5bGVBdHRyaWJ1dGVzID0ge30pIHsKICBjb25zdCBlbGVtZW50ID0gZG9jdW1lbnQuY3JlYXRlRWxlbWVudCgnc3BhbicpOwogIGVsZW1lbnQudGV4dENvbnRlbnQgPSB0ZXh0OwogIGZvciAoY29uc3Qga2V5IG9mIE9iamVjdC5rZXlzKHN0eWxlQXR0cmlidXRlcykpIHsKICAgIGVsZW1lbnQuc3R5bGVba2V5XSA9IHN0eWxlQXR0cmlidXRlc1trZXldOwogIH0KICByZXR1cm4gZWxlbWVudDsKfQoKLy8gTWF4IG51bWJlciBvZiBieXRlcyB3aGljaCB3aWxsIGJlIHVwbG9hZGVkIGF0IGEgdGltZS4KY29uc3QgTUFYX1BBWUxPQURfU0laRSA9IDEwMCAqIDEwMjQ7Ci8vIE1heCBhbW91bnQgb2YgdGltZSB0byBibG9jayB3YWl0aW5nIGZvciB0aGUgdXNlci4KY29uc3QgRklMRV9DSEFOR0VfVElNRU9VVF9NUyA9IDMwICogMTAwMDsKCmZ1bmN0aW9uIF91cGxvYWRGaWxlcyhpbnB1dElkLCBvdXRwdXRJZCkgewogIGNvbnN0IHN0ZXBzID0gdXBsb2FkRmlsZXNTdGVwKGlucHV0SWQsIG91dHB1dElkKTsKICBjb25zdCBvdXRwdXRFbGVtZW50ID0gZG9jdW1lbnQuZ2V0RWxlbWVudEJ5SWQob3V0cHV0SWQpOwogIC8vIENhY2hlIHN0ZXBzIG9uIHRoZSBvdXRwdXRFbGVtZW50IHRvIG1ha2UgaXQgYXZhaWxhYmxlIGZvciB0aGUgbmV4dCBjYWxsCiAgLy8gdG8gdXBsb2FkRmlsZXNDb250aW51ZSBmcm9tIFB5dGhvbi4KICBvdXRwdXRFbGVtZW50LnN0ZXBzID0gc3RlcHM7CgogIHJldHVybiBfdXBsb2FkRmlsZXNDb250aW51ZShvdXRwdXRJZCk7Cn0KCi8vIFRoaXMgaXMgcm91Z2hseSBhbiBhc3luYyBnZW5lcmF0b3IgKG5vdCBzdXBwb3J0ZWQgaW4gdGhlIGJyb3dzZXIgeWV0KSwKLy8gd2hlcmUgdGhlcmUgYXJlIG11bHRpcGxlIGFzeW5jaHJvbm91cyBzdGVwcyBhbmQgdGhlIFB5dGhvbiBzaWRlIGlzIGdvaW5nCi8vIHRvIHBvbGwgZm9yIGNvbXBsZXRpb24gb2YgZWFjaCBzdGVwLgovLyBUaGlzIHVzZXMgYSBQcm9taXNlIHRvIGJsb2NrIHRoZSBweXRob24gc2lkZSBvbiBjb21wbGV0aW9uIG9mIGVhY2ggc3RlcCwKLy8gdGhlbiBwYXNzZXMgdGhlIHJlc3VsdCBvZiB0aGUgcHJldmlvdXMgc3RlcCBhcyB0aGUgaW5wdXQgdG8gdGhlIG5leHQgc3RlcC4KZnVuY3Rpb24gX3VwbG9hZEZpbGVzQ29udGludWUob3V0cHV0SWQpIHsKICBjb25zdCBvdXRwdXRFbGVtZW50ID0gZG9jdW1lbnQuZ2V0RWxlbWVudEJ5SWQob3V0cHV0SWQpOwogIGNvbnN0IHN0ZXBzID0gb3V0cHV0RWxlbWVudC5zdGVwczsKCiAgY29uc3QgbmV4dCA9IHN0ZXBzLm5leHQob3V0cHV0RWxlbWVudC5sYXN0UHJvbWlzZVZhbHVlKTsKICByZXR1cm4gUHJvbWlzZS5yZXNvbHZlKG5leHQudmFsdWUucHJvbWlzZSkudGhlbigodmFsdWUpID0+IHsKICAgIC8vIENhY2hlIHRoZSBsYXN0IHByb21pc2UgdmFsdWUgdG8gbWFrZSBpdCBhdmFpbGFibGUgdG8gdGhlIG5leHQKICAgIC8vIHN0ZXAgb2YgdGhlIGdlbmVyYXRvci4KICAgIG91dHB1dEVsZW1lbnQubGFzdFByb21pc2VWYWx1ZSA9IHZhbHVlOwogICAgcmV0dXJuIG5leHQudmFsdWUucmVzcG9uc2U7CiAgfSk7Cn0KCi8qKgogKiBHZW5lcmF0b3IgZnVuY3Rpb24gd2hpY2ggaXMgY2FsbGVkIGJldHdlZW4gZWFjaCBhc3luYyBzdGVwIG9mIHRoZSB1cGxvYWQKICogcHJvY2Vzcy4KICogQHBhcmFtIHtzdHJpbmd9IGlucHV0SWQgRWxlbWVudCBJRCBvZiB0aGUgaW5wdXQgZmlsZSBwaWNrZXIgZWxlbWVudC4KICogQHBhcmFtIHtzdHJpbmd9IG91dHB1dElkIEVsZW1lbnQgSUQgb2YgdGhlIG91dHB1dCBkaXNwbGF5LgogKiBAcmV0dXJuIHshSXRlcmFibGU8IU9iamVjdD59IEl0ZXJhYmxlIG9mIG5leHQgc3RlcHMuCiAqLwpmdW5jdGlvbiogdXBsb2FkRmlsZXNTdGVwKGlucHV0SWQsIG91dHB1dElkKSB7CiAgY29uc3QgaW5wdXRFbGVtZW50ID0gZG9jdW1lbnQuZ2V0RWxlbWVudEJ5SWQoaW5wdXRJZCk7CiAgaW5wdXRFbGVtZW50LmRpc2FibGVkID0gZmFsc2U7CgogIGNvbnN0IG91dHB1dEVsZW1lbnQgPSBkb2N1bWVudC5nZXRFbGVtZW50QnlJZChvdXRwdXRJZCk7CiAgb3V0cHV0RWxlbWVudC5pbm5lckhUTUwgPSAnJzsKCiAgY29uc3QgcGlja2VkUHJvbWlzZSA9IG5ldyBQcm9taXNlKChyZXNvbHZlKSA9PiB7CiAgICBpbnB1dEVsZW1lbnQuYWRkRXZlbnRMaXN0ZW5lcignY2hhbmdlJywgKGUpID0+IHsKICAgICAgcmVzb2x2ZShlLnRhcmdldC5maWxlcyk7CiAgICB9KTsKICB9KTsKCiAgY29uc3QgY2FuY2VsID0gZG9jdW1lbnQuY3JlYXRlRWxlbWVudCgnYnV0dG9uJyk7CiAgaW5wdXRFbGVtZW50LnBhcmVudEVsZW1lbnQuYXBwZW5kQ2hpbGQoY2FuY2VsKTsKICBjYW5jZWwudGV4dENvbnRlbnQgPSAnQ2FuY2VsIHVwbG9hZCc7CiAgY29uc3QgY2FuY2VsUHJvbWlzZSA9IG5ldyBQcm9taXNlKChyZXNvbHZlKSA9PiB7CiAgICBjYW5jZWwub25jbGljayA9ICgpID0+IHsKICAgICAgcmVzb2x2ZShudWxsKTsKICAgIH07CiAgfSk7CgogIC8vIENhbmNlbCB1cGxvYWQgaWYgdXNlciBoYXNuJ3QgcGlja2VkIGFueXRoaW5nIGluIHRpbWVvdXQuCiAgY29uc3QgdGltZW91dFByb21pc2UgPSBuZXcgUHJvbWlzZSgocmVzb2x2ZSkgPT4gewogICAgc2V0VGltZW91dCgoKSA9PiB7CiAgICAgIHJlc29sdmUobnVsbCk7CiAgICB9LCBGSUxFX0NIQU5HRV9USU1FT1VUX01TKTsKICB9KTsKCiAgLy8gV2FpdCBmb3IgdGhlIHVzZXIgdG8gcGljayB0aGUgZmlsZXMuCiAgY29uc3QgZmlsZXMgPSB5aWVsZCB7CiAgICBwcm9taXNlOiBQcm9taXNlLnJhY2UoW3BpY2tlZFByb21pc2UsIHRpbWVvdXRQcm9taXNlLCBjYW5jZWxQcm9taXNlXSksCiAgICByZXNwb25zZTogewogICAgICBhY3Rpb246ICdzdGFydGluZycsCiAgICB9CiAgfTsKCiAgaWYgKCFmaWxlcykgewogICAgcmV0dXJuIHsKICAgICAgcmVzcG9uc2U6IHsKICAgICAgICBhY3Rpb246ICdjb21wbGV0ZScsCiAgICAgIH0KICAgIH07CiAgfQoKICBjYW5jZWwucmVtb3ZlKCk7CgogIC8vIERpc2FibGUgdGhlIGlucHV0IGVsZW1lbnQgc2luY2UgZnVydGhlciBwaWNrcyBhcmUgbm90IGFsbG93ZWQuCiAgaW5wdXRFbGVtZW50LmRpc2FibGVkID0gdHJ1ZTsKCiAgZm9yIChjb25zdCBmaWxlIG9mIGZpbGVzKSB7CiAgICBjb25zdCBsaSA9IGRvY3VtZW50LmNyZWF0ZUVsZW1lbnQoJ2xpJyk7CiAgICBsaS5hcHBlbmQoc3BhbihmaWxlLm5hbWUsIHtmb250V2VpZ2h0OiAnYm9sZCd9KSk7CiAgICBsaS5hcHBlbmQoc3BhbigKICAgICAgICBgKCR7ZmlsZS50eXBlIHx8ICduL2EnfSkgLSAke2ZpbGUuc2l6ZX0gYnl0ZXMsIGAgKwogICAgICAgIGBsYXN0IG1vZGlmaWVkOiAkewogICAgICAgICAgICBmaWxlLmxhc3RNb2RpZmllZERhdGUgPyBmaWxlLmxhc3RNb2RpZmllZERhdGUudG9Mb2NhbGVEYXRlU3RyaW5nKCkgOgogICAgICAgICAgICAgICAgICAgICAgICAgICAgICAgICAgICAnbi9hJ30gLSBgKSk7CiAgICBjb25zdCBwZXJjZW50ID0gc3BhbignMCUgZG9uZScpOwogICAgbGkuYXBwZW5kQ2hpbGQocGVyY2VudCk7CgogICAgb3V0cHV0RWxlbWVudC5hcHBlbmRDaGlsZChsaSk7CgogICAgY29uc3QgZmlsZURhdGFQcm9taXNlID0gbmV3IFByb21pc2UoKHJlc29sdmUpID0+IHsKICAgICAgY29uc3QgcmVhZGVyID0gbmV3IEZpbGVSZWFkZXIoKTsKICAgICAgcmVhZGVyLm9ubG9hZCA9IChlKSA9PiB7CiAgICAgICAgcmVzb2x2ZShlLnRhcmdldC5yZXN1bHQpOwogICAgICB9OwogICAgICByZWFkZXIucmVhZEFzQXJyYXlCdWZmZXIoZmlsZSk7CiAgICB9KTsKICAgIC8vIFdhaXQgZm9yIHRoZSBkYXRhIHRvIGJlIHJlYWR5LgogICAgbGV0IGZpbGVEYXRhID0geWllbGQgewogICAgICBwcm9taXNlOiBmaWxlRGF0YVByb21pc2UsCiAgICAgIHJlc3BvbnNlOiB7CiAgICAgICAgYWN0aW9uOiAnY29udGludWUnLAogICAgICB9CiAgICB9OwoKICAgIC8vIFVzZSBhIGNodW5rZWQgc2VuZGluZyB0byBhdm9pZCBtZXNzYWdlIHNpemUgbGltaXRzLiBTZWUgYi82MjExNTY2MC4KICAgIGxldCBwb3NpdGlvbiA9IDA7CiAgICB3aGlsZSAocG9zaXRpb24gPCBmaWxlRGF0YS5ieXRlTGVuZ3RoKSB7CiAgICAgIGNvbnN0IGxlbmd0aCA9IE1hdGgubWluKGZpbGVEYXRhLmJ5dGVMZW5ndGggLSBwb3NpdGlvbiwgTUFYX1BBWUxPQURfU0laRSk7CiAgICAgIGNvbnN0IGNodW5rID0gbmV3IFVpbnQ4QXJyYXkoZmlsZURhdGEsIHBvc2l0aW9uLCBsZW5ndGgpOwogICAgICBwb3NpdGlvbiArPSBsZW5ndGg7CgogICAgICBjb25zdCBiYXNlNjQgPSBidG9hKFN0cmluZy5mcm9tQ2hhckNvZGUuYXBwbHkobnVsbCwgY2h1bmspKTsKICAgICAgeWllbGQgewogICAgICAgIHJlc3BvbnNlOiB7CiAgICAgICAgICBhY3Rpb246ICdhcHBlbmQnLAogICAgICAgICAgZmlsZTogZmlsZS5uYW1lLAogICAgICAgICAgZGF0YTogYmFzZTY0LAogICAgICAgIH0sCiAgICAgIH07CiAgICAgIHBlcmNlbnQudGV4dENvbnRlbnQgPQogICAgICAgICAgYCR7TWF0aC5yb3VuZCgocG9zaXRpb24gLyBmaWxlRGF0YS5ieXRlTGVuZ3RoKSAqIDEwMCl9JSBkb25lYDsKICAgIH0KICB9CgogIC8vIEFsbCBkb25lLgogIHlpZWxkIHsKICAgIHJlc3BvbnNlOiB7CiAgICAgIGFjdGlvbjogJ2NvbXBsZXRlJywKICAgIH0KICB9Owp9CgpzY29wZS5nb29nbGUgPSBzY29wZS5nb29nbGUgfHwge307CnNjb3BlLmdvb2dsZS5jb2xhYiA9IHNjb3BlLmdvb2dsZS5jb2xhYiB8fCB7fTsKc2NvcGUuZ29vZ2xlLmNvbGFiLl9maWxlcyA9IHsKICBfdXBsb2FkRmlsZXMsCiAgX3VwbG9hZEZpbGVzQ29udGludWUsCn07Cn0pKHNlbGYpOwo=",
              "ok": true,
              "headers": [
                [
                  "content-type",
                  "application/javascript"
                ]
              ],
              "status": 200,
              "status_text": ""
            }
          },
          "base_uri": "https://localhost:8080/",
          "height": 358
        },
        "outputId": "f606b075-c88f-49b9-ad9b-1b460b66264e"
      },
      "source": [
        "# 3.(c) plot\n",
        "\n",
        "import pandas as pd\n",
        "from google.colab import files\n",
        "uploaded = files.upload()\n",
        "import matplotlib.pyplot as plt\n",
        "\n",
        "df2 = pd.read_csv(\"q3c.csv\", names=[\"Values of rho\", \"Average periods to negative health index\"])\n",
        "df2.plot(x=\"Values of rho\",y=\"Average periods to negative health index\")"
      ],
      "execution_count": 28,
      "outputs": [
        {
          "output_type": "display_data",
          "data": {
            "text/html": [
              "\n",
              "     <input type=\"file\" id=\"files-65dfd067-b9b1-4ec0-8052-01560c19ec1e\" name=\"files[]\" multiple disabled />\n",
              "     <output id=\"result-65dfd067-b9b1-4ec0-8052-01560c19ec1e\">\n",
              "      Upload widget is only available when the cell has been executed in the\n",
              "      current browser session. Please rerun this cell to enable.\n",
              "      </output>\n",
              "      <script src=\"/nbextensions/google.colab/files.js\"></script> "
            ],
            "text/plain": [
              "<IPython.core.display.HTML object>"
            ]
          },
          "metadata": {
            "tags": []
          }
        },
        {
          "output_type": "stream",
          "text": [
            "Saving q3c.csv to q3c (1).csv\n"
          ],
          "name": "stdout"
        },
        {
          "output_type": "execute_result",
          "data": {
            "text/plain": [
              "<matplotlib.axes._subplots.AxesSubplot at 0x7f6c887df0b8>"
            ]
          },
          "metadata": {
            "tags": []
          },
          "execution_count": 28
        },
        {
          "output_type": "display_data",
          "data": {
            "image/png": "[encoded data removed]",
            "text/plain": [
              "<Figure size 432x288 with 1 Axes>"
            ]
          },
          "metadata": {
            "tags": [],
            "needs_background": "light"
          }
        }
      ]
    },
    {
      "cell_type": "markdown",
      "metadata": {
        "id": "uMh9x3zpeKjJ",
        "colab_type": "text"
      },
      "source": [
        "3.(d) From the MPI implementation in 3(a), the optimal $\\rho$ value is -0.052513, and the corresponding average periods is 764.991. From the GPU implementation in 3(b), the optimal $\\rho$ value is 0.033417, and the corresponding average periods is 755.71. The results are different but very close."
      ]
    }
  ]
}