{
  "nbformat": 4,
  "nbformat_minor": 0,
  "metadata": {
    "colab": {
      "name": "Assignment1.ipynb",
      "provenance": [],
      "collapsed_sections": [],
      "authorship_tag": "ABX9TyOANG7O2oXwJmAMCERvNLGS",
      "include_colab_link": true
    },
    "kernelspec": {
      "name": "python3",
      "display_name": "Python 3"
    },
    "accelerator": "GPU"
  },
  "cells": [
    {
      "cell_type": "markdown",
      "metadata": {
        "id": "view-in-github",
        "colab_type": "text"
      },
      "source": [
        "<a href=\"https://colab.research.google.com/github/artemisyang/LS_assignment1_Artemis/blob/master/Assignment1.ipynb\" target=\"_parent\"><img src=\"https://colab.research.google.com/assets/colab-badge.svg\" alt=\"Open In Colab\"/></a>"
      ]
    },
    {
      "cell_type": "markdown",
      "metadata": {
        "id": "TQx1SQ5ukRfT",
        "colab_type": "text"
      },
      "source": [
        "Note: To save credits for Midway RCC, I ran all of my GPU programs directly in Google Colab instead of on Midway."
      ]
    },
    {
      "cell_type": "code",
      "metadata": {
        "id": "DHVLqx2S7FAN",
        "colab_type": "code",
        "outputId": "45796234-fb00-442f-b95b-085257ace5b0",
        "colab": {
          "base_uri": "https://localhost:8080/",
          "height": 190
        }
      },
      "source": [
        "! pip install pyopencl mako\n",
        "! pip install mpi4py\n",
        "\n",
        "import pyopencl as cl\n",
        "import numpy as np\n",
        "import pyopencl.array as cl_array\n",
        "import pyopencl.clrandom as clrand\n",
        "import pyopencl.tools as cltools\n",
        "from pyopencl.scan import GenericScanKernel\n",
        "from pyopencl.elementwise import ElementwiseKernel\n",
        "import queue\n",
        "import time\n",
        "import scipy.stats as sts\n",
        "import pandas as pd\n",
        "from google.colab import files\n",
        "import matplotlib.pyplot as plt\n",
        "from mpi4py import MPI\n",
        "from scipy.optimize import minimize"
      ],
      "execution_count": 2,
      "outputs": [
        {
          "output_type": "stream",
          "text": [
            "Requirement already satisfied: pyopencl in /usr/local/lib/python3.6/dist-packages (2020.1)\n",
            "Requirement already satisfied: mako in /usr/local/lib/python3.6/dist-packages (1.1.2)\n",
            "Requirement already satisfied: appdirs>=1.4.0 in /usr/local/lib/python3.6/dist-packages (from pyopencl) (1.4.3)\n",
            "Requirement already satisfied: pytools>=2017.6 in /usr/local/lib/python3.6/dist-packages (from pyopencl) (2020.1)\n",
            "Requirement already satisfied: numpy in /usr/local/lib/python3.6/dist-packages (from pyopencl) (1.18.3)\n",
            "Requirement already satisfied: decorator>=3.2.0 in /usr/local/lib/python3.6/dist-packages (from pyopencl) (4.4.2)\n",
            "Requirement already satisfied: six>=1.9.0 in /usr/local/lib/python3.6/dist-packages (from pyopencl) (1.12.0)\n",
            "Requirement already satisfied: MarkupSafe>=0.9.2 in /usr/local/lib/python3.6/dist-packages (from mako) (1.1.1)\n",
            "Requirement already satisfied: mpi4py in /usr/local/lib/python3.6/dist-packages (3.0.3)\n"
          ],
          "name": "stdout"
        }
      ]
    },
    {
      "cell_type": "markdown",
      "metadata": {
        "id": "rgKQyfcpqspA",
        "colab_type": "text"
      },
      "source": [
        "1.(a) The code from files that I ran on Midway RCC are attached. The plot is for 1-100 CPU cores."
      ]
    },
    {
      "cell_type": "code",
      "metadata": {
        "id": "qW5bAcp-i5Y2",
        "colab_type": "code",
        "colab": {}
      },
      "source": [
        "# 1.(a) code from q1.sbatch file:\n",
        "#!/bin/bash\n",
        "\n",
        "#SBATCH --job-name=q1\n",
        "#SBATCH --partition=broadwl\n",
        "#SBATCH --constraint=fdr\n",
        "#SBATCH --ntasks=150\n",
        "#SBATCH --output=q1.out\n",
        "\n",
        "# Load the default mpi4py/Anaconda module.\n",
        " module load mpi4py/3.0.1a0_py3\n",
        " \n",
        "# Run the python program with mpirun, using & to run jobs at the same time\n",
        "  for i in {1..100}\n",
        "  do\n",
        "    mpirun -n $i python ./health_index.py\n",
        "  done"
      ],
      "execution_count": 0,
      "outputs": []
    },
    {
      "cell_type": "code",
      "metadata": {
        "id": "33eWMEarjMGC",
        "colab_type": "code",
        "colab": {}
      },
      "source": [
        "# 1.(a) code from health_index.py file\n",
        "\n",
        "def sim_health_index():\n",
        "\n",
        "    # Get rank of process and overall size of communicator:\n",
        "    comm = MPI.COMM_WORLD\n",
        "    rank = comm.Get_rank()\n",
        "    size = comm.Get_size()\n",
        "    \n",
        "    # Start time:\n",
        "    t0 = time.time()\n",
        "   \n",
        "    # Set model parameters\n",
        "    rho = 0.5\n",
        "    mu = 3.0\n",
        "    sigma = 1.0\n",
        "    z_0 = mu\n",
        "\n",
        "    # Set simulation parameters\n",
        "    S = 1000 # Set the number of lives to simulate\n",
        "    T = int(4160) # Set the number of periods for each simulation\n",
        "\n",
        "    # Evenly distribute number of simulation runs across processes\n",
        "    N = int(S/size)\n",
        "\n",
        "    # Draw all idiosyncratic random shocks and create empty containers\n",
        "    np.random.seed(25)\n",
        "    eps_mat = sts.norm.rvs(loc=0, scale=sigma, size=(T, N))\n",
        "    z_mat = np.zeros((T, N))\n",
        "    z_mat[0, :] = z_0\n",
        "\n",
        "    for s_ind in range(N):\n",
        "        z_tm1 = z_0\n",
        "        for t_ind in range(T):\n",
        "            e_t = eps_mat[t_ind, s_ind]\n",
        "            z_t = rho * z_tm1 + (1 - rho) * mu + e_t\n",
        "            z_mat[t_ind, s_ind] = z_t\n",
        "            z_tm1 = z_t\n",
        "\n",
        "  # Gather all simulation arrays to buffer on rank 0\n",
        "    z_mat_all = None\n",
        "    if rank == 0:\n",
        "       z_mat_all = np.empty([T, int(N*size)], dtype = 'float')\n",
        "    comm.Gather(sendbuf=z_mat, recvbuf=z_mat_all, root=0)\n",
        "    #comm.gather(z_mat, root=0)\n",
        "     \n",
        "  # Print simulation results on rank 0\n",
        "    if rank == 0:\n",
        "     # Calculate time elapsed\n",
        "       time_elapsed = time.time() - t0\n",
        "     # Print(time_elapsed)\n",
        "       print(\"Simulated lifetimes in: %f seconds on %d MPI processes\"\n",
        "                % (time_elapsed, size))     \n",
        "   \n",
        "    return\n",
        "\n",
        "def main():\n",
        "    sim_health_index()\n",
        "\n",
        "if __name__ == '__main__':\n",
        "    main()"
      ],
      "execution_count": 0,
      "outputs": []
    },
    {
      "cell_type": "code",
      "metadata": {
        "id": "ASyZTHNvPXLf",
        "colab_type": "code",
        "outputId": "3899f68e-3f87-458e-a1bc-68317081ace3",
        "colab": {
          "resources": {
            "http://localhost:8080/nbextensions/google.colab/files.js": {
              "data": "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",
              "ok": true,
              "headers": [
                [
                  "content-type",
                  "application/javascript"
                ]
              ],
              "status": 200,
              "status_text": ""
            }
          },
          "base_uri": "https://localhost:8080/",
          "height": 354
        }
      },
      "source": [
        "# 1.(a) plot\n",
        "uploaded = files.upload()\n",
        "df = pd.read_csv(\"q1.csv\", names=[\"Number of MPI processes\", \"Running time (in seconds)\"])\n",
        "df.plot(x=\"Number of MPI processes\",y=\"Running time (in seconds)\")"
      ],
      "execution_count": 0,
      "outputs": [
        {
          "output_type": "display_data",
          "data": {
            "text/html": [
              "\n",
              "     <input type=\"file\" id=\"files-45cac37a-6dbf-48c1-8d97-a92621f2d831\" name=\"files[]\" multiple disabled />\n",
              "     <output id=\"result-45cac37a-6dbf-48c1-8d97-a92621f2d831\">\n",
              "      Upload widget is only available when the cell has been executed in the\n",
              "      current browser session. Please rerun this cell to enable.\n",
              "      </output>\n",
              "      <script src=\"/nbextensions/google.colab/files.js\"></script> "
            ],
            "text/plain": [
              "<IPython.core.display.HTML object>"
            ]
          },
          "metadata": {
            "tags": []
          }
        },
        {
          "output_type": "stream",
          "text": [
            "Saving q1.csv to q1 (15).csv\n"
          ],
          "name": "stdout"
        },
        {
          "output_type": "execute_result",
          "data": {
            "text/plain": [
              "<matplotlib.axes._subplots.AxesSubplot at 0x7f6c8891b550>"
            ]
          },
          "metadata": {
            "tags": []
          },
          "execution_count": 22
        },
        {
          "output_type": "display_data",
          "data": {
            "image/png": "[encoded data removed]",
            "text/plain": [
              "<Figure size 432x288 with 1 Axes>"
            ]
          },
          "metadata": {
            "tags": [],
            "needs_background": "light"
          }
        }
      ]
    },
    {
      "cell_type": "markdown",
      "metadata": {
        "id": "jlED988qYvAV",
        "colab_type": "text"
      },
      "source": [
        "1.(b) One reason that the speedup is not linear is the communication workload. In this task, we split the 1000 simulations evenly across processors, and we always need to send processed simulation results back to one MPI processor (with rank of 0). As we increase the number of processors, the communication step could take more time. Also, the running time of matrix operations highly depends on CPU cache memory size. Thus increasing number of processors does not necessarily decrease the overall running time."
      ]
    },
    {
      "cell_type": "markdown",
      "metadata": {
        "id": "1w3lBaDrpUIi",
        "colab_type": "text"
      },
      "source": [
        "2.(a) Using the elementwise kernel, it takes 0.47 second to run. Using the scan kernel, it takes 0.51 second to run. As there is some unknown calculation error in the scan kernel and it doesn't return the correct values, I choose to use the elementwise kernel."
      ]
    },
    {
      "cell_type": "code",
      "metadata": {
        "id": "pZsZxUvWnMTd",
        "colab_type": "code",
        "outputId": "aada0923-e1ec-4689-9273-049ffbf29ff6",
        "colab": {
          "base_uri": "https://localhost:8080/",
          "height": 153
        }
      },
      "source": [
        "#2.(a) with elementwise kernel\n",
        "\n",
        "def sim_health_index():\n",
        "\n",
        "  # Set up context and command queue\n",
        "  ctx = cl.create_some_context()\n",
        "  queue = cl.CommandQueue(ctx)\n",
        "    \n",
        "  # Start time:\n",
        "  t0 = time.time()\n",
        "   \n",
        "  # Set model parameters\n",
        "  S = 1000 # Set the number of lives to simulate\n",
        "  T = int(4160) # Set the number of periods for each simulation\n",
        "  rho = 0.5\n",
        "  mu = 3.0\n",
        "  np.random.seed(25)\n",
        "  z_mat = np.zeros((T, S), dtype=np.float32)\n",
        "  \n",
        "  # Generate array of random shocks\n",
        "  init_np = np.zeros(S).astype(np.float32) + mu\n",
        "  epsm_np = sts.norm.rvs(loc=0,scale=1.0,size=T*S).astype(np.float32)\n",
        "\n",
        "  init_g = cl.array.to_device(queue, init_np)\n",
        "  epsm_g = cl.array.to_device(queue, epsm_np)\n",
        "  \n",
        "  # GPU: Define Elementwise Kernel\n",
        "  prefix_sum = ElementwiseKernel(ctx,\n",
        "               \"float *a_g, float *b_g, float *res_g, float rho, float mu\",\n",
        "               \"res_g[i] = rho * a_g[i]+(1-rho)*mu + b_g[i]\")\n",
        "  \n",
        "  # Allocate space for result of kernel on device\n",
        "  dev_result = cl_array.empty_like(epsm_g)\n",
        "\n",
        "  # Enqueue and Run Elementwise Kernel\n",
        "  prefix_sum(init_g, epsm_g[:S], dev_result[:S], rho, mu)\n",
        "  [prefix_sum(dev_result[S*(i-1):S*i], epsm_g[S*i:S*(i+1)],\n",
        "              dev_result[S*i:S*(i+1)], rho, mu) for i in range(1,T)]\n",
        "\n",
        "  # Get results back on CPU\n",
        "  z_all = dev_result.get().reshape(T,S)\n",
        "\n",
        "# Print simulation results\n",
        "  print(z_all)\n",
        "\n",
        "  final_time = time.time()\n",
        "  time_elapsed = final_time - t0\n",
        "  print(\"Simulated %d lifetimes in: %f seconds\"\n",
        "               % (S, time_elapsed)) \n",
        "\n",
        "  return\n",
        "\n",
        "def main():\n",
        "    sim_health_index()\n",
        "\n",
        "if __name__ == '__main__':\n",
        "    main()"
      ],
      "execution_count": 0,
      "outputs": [
        {
          "output_type": "stream",
          "text": [
            "[[3.2282732  4.0268903  2.1604152  ... 3.5980616  4.2172623  4.2740126 ]\n",
            " [2.7241552  2.7610037  1.8453364  ... 4.562945   4.1576777  2.4020617 ]\n",
            " [0.88323987 3.602325   1.863601   ... 3.6887615  3.2543025  3.5586102 ]\n",
            " ...\n",
            " [5.7436695  2.7490346  3.707395   ... 1.8711723  1.6462877  2.4367635 ]\n",
            " [5.444686   3.167647   4.440064   ... 2.866872   3.2936373  2.6143126 ]\n",
            " [3.721859   4.119889   4.6702805  ... 2.063307   3.2129734  2.634847  ]]\n",
            "Simulated 1000 lifetimes in: 0.469585 seconds\n"
          ],
          "name": "stdout"
        }
      ]
    },
    {
      "cell_type": "code",
      "metadata": {
        "id": "8R5iGWiA6F_N",
        "colab_type": "code",
        "outputId": "74345d09-3c41-4194-898b-91dccde713d4",
        "colab": {
          "base_uri": "https://localhost:8080/",
          "height": 153
        }
      },
      "source": [
        "# 2.(a) with scan kernel\n",
        "\n",
        "def sim_health_index():\n",
        "\n",
        "  # Set up context and command queue\n",
        "  ctx = cl.create_some_context()\n",
        "  queue = cl.CommandQueue(ctx)\n",
        "    \n",
        "  # Start time:\n",
        "  t0 = time.time()\n",
        "   \n",
        "  # Set model parameters\n",
        "  S = 1000 # Set the number of lives to simulate\n",
        "  T = int(4160) # Set the number of periods for each simulation\n",
        "  np.random.seed(25)\n",
        "  z_mat = np.zeros((T, S), dtype=np.float32)\n",
        "  \n",
        "  # Generate array of random shocks\n",
        "  rand_gen = clrand.PhiloxGenerator(ctx)\n",
        "  ran = rand_gen.normal(queue, (S*T), np.float32, mu=0, sigma=1)\n",
        "  #print(ran)\n",
        "\n",
        "  # Change the value for the first row to account for the initial value of z_t\n",
        "  for z in range(S):\n",
        "    z = z * T - T\n",
        "    ran[z] = ran[z] + 3\n",
        "  \n",
        "  # Establish boundaries for each simulated \n",
        "  seg_boundaries = [1] + [0] * (T - 1) \n",
        "  seg_boundaries = np.array(seg_boundaries, dtype=np.uint8)\n",
        "  #print(seg_boundaries)\n",
        "  seg_boundary_flags = np.tile(seg_boundaries, int(S))\n",
        "  seg_boundary_flags = cl_array.to_device(queue, seg_boundary_flags)\n",
        "  #print(seg_boundary_flags)\n",
        "  \n",
        "  # GPU: Define Segmented Scan Kernel\n",
        "  prefix_sum = GenericScanKernel(ctx, np.float32,\n",
        "               arguments=\"__global float *ary, __global char *segflags, \"\n",
        "                   \"__global float *out\",\n",
        "               input_expr=\"ary[i]\",\n",
        "               scan_expr=\"across_seg_boundary ? b : (b+a*0.5+1.5)\", neutral=\"0\",\n",
        "               is_segment_start_expr=\"segflags[i]\",\n",
        "               output_statement=\"out[i] = item\",\n",
        "               options=[])\n",
        "  \n",
        "  # Allocate space for result of kernel on device\n",
        "  dev_result = cl_array.empty_like(ran)\n",
        "\n",
        "  # Enqueue and Run Scan Kernel\n",
        "  prefix_sum(ran, seg_boundary_flags, dev_result)\n",
        "\n",
        "  # Get results back on CPU\n",
        "  z_all = (dev_result.get()\n",
        "                     .reshape(S, T)\n",
        "                     .transpose()\n",
        "                         )\n",
        "\n",
        "# Print simulation results\n",
        "  print(z_all)\n",
        "\n",
        "  final_time = time.time()\n",
        "  time_elapsed = final_time - t0\n",
        "  print(\"Simulated %d lifetimes in: %f seconds\"\n",
        "                % (S, time_elapsed)) \n",
        "  return\n",
        "\n",
        "def main():\n",
        "    sim_health_index()\n",
        "\n",
        "if __name__ == '__main__':\n",
        "    main()"
      ],
      "execution_count": 0,
      "outputs": [
        {
          "output_type": "stream",
          "text": [
            "[[ 3.305101   1.7843852  2.310944  ...  2.7387207  3.339977   4.77309  ]\n",
            " [ 2.7882876  3.432971   3.084823  ...  2.5825524  2.555361   1.7009106]\n",
            " [ 2.7027223  2.7213817  2.396581  ...  1.3811734  2.4580746  1.0173331]\n",
            " ...\n",
            " [55.12113    8.4563675 56.63877   ... 55.94834   44.431953  55.21933  ]\n",
            " [56.071236   8.27284   57.71346   ... 55.7464    44.292847  53.851566 ]\n",
            " [55.363197   8.4304    57.280464  ... 56.229134  43.877567  51.959373 ]]\n",
            "Simulated 1000 lifetimes in: 0.511954 seconds\n"
          ],
          "name": "stdout"
        }
      ]
    },
    {
      "cell_type": "markdown",
      "metadata": {
        "id": "Ic5qxXFSG_yD",
        "colab_type": "text"
      },
      "source": [
        "2.(b) When the number of processors is small (less than 4) in the MPI implementation, the PyOpenCL implementation is obviously faster. When the number of processors is bigger than 10 in the MPI implementation, the running time is usually lower than 0.5 second except for a few outliers, so the PyOpenCL implementation costs a little bit more time, but it's almost a negligible amount of time for this particular task. Also the running time of PyOpenCL seems more stable. The PyOpenCL implementation performs well for this task because GPU contains sets of cores working on same instruction in a lock-step fashion for the purpose of parallelisim. Compared with parallelisim through multiple CPU cores, the GPU has the advantage that it does not need extra time for communication. Plus, our task does not require a big amount of global memory, so it works well with the GPU."
      ]
    },
    {
      "cell_type": "markdown",
      "metadata": {
        "id": "ZOVNTf7ldtYl",
        "colab_type": "text"
      },
      "source": [
        "3.(a) With the MPI implementation, the running time is 1290.3 seconds. Here is the printed message copied from the .out file: \"Simulated in 1290.298222 seconds, Optimal rho value = -0.052513, Average periods = 764.991000\". The code files are attached:"
      ]
    },
    {
      "cell_type": "code",
      "metadata": {
        "id": "HdekdnhUiQMn",
        "colab_type": "code",
        "colab": {}
      },
      "source": [
        "# 3.(a) code from q3a.sbatch file\n",
        "#!/bin/bash\n",
        "\n",
        "#SBATCH --job-name=q3\n",
        "#SBATCH --partition=broadwl\n",
        "#SBATCH --constraint=fdr\n",
        "#SBATCH --mem-per-cpu=2G\n",
        "#SBATCH --account=macs30123\n",
        "#SBATCH --output=q3a.out\n",
        "\n",
        "# Load the default mpi4py/Anaconda module.\n",
        " module load mpi4py/3.0.1a0_py3\n",
        " \n",
        "# Run the python program with mpirun, using & to run jobs at the same time\n",
        " \n",
        " mpirun -n 20 python ./q3a.py"
      ],
      "execution_count": 0,
      "outputs": []
    },
    {
      "cell_type": "code",
      "metadata": {
        "id": "jJybPqcOmIQ6",
        "colab_type": "code",
        "colab": {}
      },
      "source": [
        "# 3.(a) code from q3a.py file\n",
        "    \n",
        "def sim_health_index():\n",
        "\n",
        "    t0 = time.time()\n",
        "    rho_array = np.linspace(-0.95,0.95,200)\n",
        "    avg =[]\n",
        "    \n",
        "    for r in rho_array:\n",
        "    \n",
        "        # Get rank of process and overall size of communicator:\n",
        "        comm = MPI.COMM_WORLD\n",
        "        rank = comm.Get_rank()\n",
        "        size = comm.Get_size()\n",
        "   \n",
        "        # Set model parameters\n",
        "        rho = r\n",
        "        mu = 3.0\n",
        "        sigma = 1.0\n",
        "        z_0 = mu\n",
        "\n",
        "        # Set simulation parameters\n",
        "        S = 1000 # Set the number of lives to simulate\n",
        "        T = int(4160) # Set the number of periods for each simulation\n",
        "\n",
        "        # Evenly distribute number of simulation runs across processes\n",
        "        N = int(S/size)\n",
        "\n",
        "        # Draw all idiosyncratic random shocks and create empty containers\n",
        "        eps_mat = sts.norm.rvs(loc=0, scale=sigma, size=(T, N))\n",
        "        z_mat = np.zeros((T, N))\n",
        "        z_mat[0, :] = z_0\n",
        "    \n",
        "        # Create an array to store the index for first negative z_t\n",
        "        neg_index = np.full(N,fill_value = T+1)\n",
        "\n",
        "        # Create the health index matrix\n",
        "        for s_ind in range(N):\n",
        "            z_tm1 = z_0\n",
        "            for t_ind in range(T):\n",
        "                e_t = eps_mat[t_ind, s_ind]\n",
        "                z_t = rho * z_tm1 + (1 - rho) * mu + e_t\n",
        "                z_mat[t_ind, s_ind] = z_t\n",
        "                z_tm1 = z_t\n",
        "                if z_tm1<0:\n",
        "                  if neg_index[s_ind] == T+1:\n",
        "                     neg_index[s_ind] = t_ind+1\n",
        "\n",
        "        # Gather all simulation arrays to buffer on rank 0\n",
        "        neg_all = comm.gather(neg_index, root = 0)\n",
        "     \n",
        "        # Return average number of periods on rank 0\n",
        "        if rank == 0:\n",
        "           mean = np.mean(neg_all)\n",
        "           avg.append(mean)\n",
        "           \n",
        "    if rank == 0:\n",
        "        \n",
        "       # Get optimal rho value\n",
        "       ind = avg.index(max(avg))\n",
        "       opt = rho_array[ind]\n",
        "       max_avg = max(avg)\n",
        "\n",
        "       # Print simulation results\n",
        "       time_elapsed = time.time() - t0\n",
        "       print(\"Simulated in %f seconds, Optimal rho value = %f, Average periods = %f\"\n",
        "                % (time_elapsed, opt, max_avg)) \n",
        "       print(rho_array)\n",
        "       print(avg)\n",
        "\n",
        "def main():\n",
        "   sim_health_index()\n",
        "          \n",
        "if __name__ == '__main__':\n",
        "    main()"
      ],
      "execution_count": 0,
      "outputs": []
    },
    {
      "cell_type": "markdown",
      "metadata": {
        "id": "XaKbX1F0oLNw",
        "colab_type": "text"
      },
      "source": [
        "3.(b) \n",
        "Using OpenCL to run the same program, the optimal $\\rho$ value is 0.033417 and the average number of periods is 755.71. The computation time becomes 1540 seconds. The MPI implementation is faster for this task, because the grid search process needs to loop over 200 times of the simulations, which is very time-consuming. Dividing the simulations into parallel tasks among 20 MPI processors could save some computation time."
      ]
    },
    {
      "cell_type": "code",
      "metadata": {
        "id": "LdKsoB94cKAr",
        "colab_type": "code",
        "outputId": "97deeff0-e65f-4fa3-9bfb-8809da5d5dc5",
        "colab": {
          "base_uri": "https://localhost:8080/",
          "height": 282
        }
      },
      "source": [
        "# 3.(b) grid search with OpenCL\n",
        "\n",
        "def sim_health_index(r):\n",
        "\n",
        "  # Set up context and command queue\n",
        "  ctx = cl.create_some_context()\n",
        "  queue = cl.CommandQueue(ctx)\n",
        "    \n",
        "  # Start time:\n",
        "  t0 = time.time()\n",
        "   \n",
        "  # Set model parameters\n",
        "  S = 1000 # Set the number of lives to simulate\n",
        "  T = int(4160) # Set the number of periods for each simulation\n",
        "  rho = r\n",
        "  mu = 3.0\n",
        "  np.random.seed(25)\n",
        "  z_mat = np.zeros((T, S), dtype=np.float32)\n",
        "  \n",
        "  # Generate array of random shocks\n",
        "  init_np = np.zeros(S).astype(np.float32) + mu\n",
        "  epsm_np = sts.norm.rvs(loc=0,scale=1.0,size=T*S).astype(np.float32)\n",
        "\n",
        "  init_g = cl.array.to_device(queue, init_np)\n",
        "  epsm_g = cl.array.to_device(queue, epsm_np)\n",
        "  \n",
        "  # GPU: Define Segmented Elementwise Kernel\n",
        "  prefix_sum = ElementwiseKernel(ctx,\n",
        "               \"float *a_g, float *b_g, float *res_g, float rho, float mu\",\n",
        "               \"res_g[i] = rho * a_g[i]+(1-rho)*mu + b_g[i]\")\n",
        "  \n",
        "  # Allocate space for result of kernel on device\n",
        "  dev_result = cl_array.empty_like(epsm_g)\n",
        "\n",
        "  # Enqueue and Run Elementwise Kernel\n",
        "  prefix_sum(init_g, epsm_g[:S], dev_result[:S], rho, mu)\n",
        "  [prefix_sum(dev_result[S*(i-1):S*i], epsm_g[S*i:S*(i+1)],\n",
        "              dev_result[S*i:S*(i+1)], rho, mu) for i in range(1,T)]\n",
        "\n",
        "  # Get results back on CPU\n",
        "  z_all = dev_result.get().reshape(T,S)\n",
        "\n",
        "  # Create an array to store the index for first negative z_t\n",
        "  neg_index = np.full(S,fill_value = T+1)\n",
        "\n",
        "  # Print simulation results\n",
        "  for s in range(S):\n",
        "    for t in range(T):\n",
        "      if z_all[t,s] < 0:\n",
        "        if neg_index[s] == T+1:\n",
        "           neg_index[s] = t+1\n",
        "  return np.mean(neg_index)\n",
        "\n",
        "def main():\n",
        "    # Start time\n",
        "    t0 = time.time()\n",
        "    \n",
        "    # Run the health simulation program\n",
        "    rho_array = np.linspace(-0.95,0.95,200)\n",
        "    avg =np.zeros(200)\n",
        "    \n",
        "    # run program with different rhos\n",
        "    for r in range(len(rho_array)):\n",
        "        avg[r] = sim_health_index(rho_array[r])\n",
        "    \n",
        "    # Get optimal rho value and index\n",
        "    max_avg = np.amax(avg)\n",
        "    opt = rho_array[np.argmax(avg)] \n",
        "\n",
        "    # End time\n",
        "    time_elapsed = time.time() - t0\n",
        "\n",
        "    # Print simulation results\n",
        "    print(\"Simulated in %f seconds, Optimal rho value = %f, Average periods = %f\"\n",
        "                % (time_elapsed, opt, max_avg)) \n",
        "    plt.plot(rho_array,avg)\n",
        "  \n",
        "if __name__ == '__main__':\n",
        "    main()"
      ],
      "execution_count": 0,
      "outputs": [
        {
          "output_type": "stream",
          "text": [
            "Simulated in 1539.689966 seconds, Optimal rho value = 0.033417, Average periods = 755.710000\n"
          ],
          "name": "stdout"
        },
        {
          "output_type": "display_data",
          "data": {
            "image/png": "[encoded data removed]",
            "text/plain": [
              "<Figure size 432x288 with 1 Axes>"
            ]
          },
          "metadata": {
            "tags": [],
            "needs_background": "light"
          }
        }
      ]
    },
    {
      "cell_type": "markdown",
      "metadata": {
        "id": "Pzdf-PLxfEu6",
        "colab_type": "text"
      },
      "source": [
        "3.(c) Below is the plot using results from the MPI implementation. The plot indicates that rho values close to 0 tend to have larger average periods to negative health index, which is very similar to the plot created from the OpenCL implementation from last question."
      ]
    },
    {
      "cell_type": "code",
      "metadata": {
        "id": "7Q0-7CoIfWuO",
        "colab_type": "code",
        "outputId": "f606b075-c88f-49b9-ad9b-1b460b66264e",
        "colab": {
          "resources": {
            "http://localhost:8080/nbextensions/google.colab/files.js": {
              "data": "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",
              "ok": true,
              "headers": [
                [
                  "content-type",
                  "application/javascript"
                ]
              ],
              "status": 200,
              "status_text": ""
            }
          },
          "base_uri": "https://localhost:8080/",
          "height": 358
        }
      },
      "source": [
        "# 3.(c) plot\n",
        "uploaded = files.upload()\n",
        "df2 = pd.read_csv(\"q3c.csv\", names=[\"Values of rho\", \"Average periods to negative health index\"])\n",
        "df2.plot(x=\"Values of rho\",y=\"Average periods to negative health index\")"
      ],
      "execution_count": 0,
      "outputs": [
        {
          "output_type": "display_data",
          "data": {
            "text/html": [
              "\n",
              "     <input type=\"file\" id=\"files-65dfd067-b9b1-4ec0-8052-01560c19ec1e\" name=\"files[]\" multiple disabled />\n",
              "     <output id=\"result-65dfd067-b9b1-4ec0-8052-01560c19ec1e\">\n",
              "      Upload widget is only available when the cell has been executed in the\n",
              "      current browser session. Please rerun this cell to enable.\n",
              "      </output>\n",
              "      <script src=\"/nbextensions/google.colab/files.js\"></script> "
            ],
            "text/plain": [
              "<IPython.core.display.HTML object>"
            ]
          },
          "metadata": {
            "tags": []
          }
        },
        {
          "output_type": "stream",
          "text": [
            "Saving q3c.csv to q3c (1).csv\n"
          ],
          "name": "stdout"
        },
        {
          "output_type": "execute_result",
          "data": {
            "text/plain": [
              "<matplotlib.axes._subplots.AxesSubplot at 0x7f6c887df0b8>"
            ]
          },
          "metadata": {
            "tags": []
          },
          "execution_count": 28
        },
        {
          "output_type": "display_data",
          "data": {
            "image/png": "[encoded data removed]",
            "text/plain": [
              "<Figure size 432x288 with 1 Axes>"
            ]
          },
          "metadata": {
            "tags": [],
            "needs_background": "light"
          }
        }
      ]
    },
    {
      "cell_type": "markdown",
      "metadata": {
        "id": "uMh9x3zpeKjJ",
        "colab_type": "text"
      },
      "source": [
        "3.(d) From the MPI implementation in 3(a), the optimal $\\rho$ value is -0.052513, and the corresponding average periods is 764.991. From the GPU implementation in 3(b), the optimal $\\rho$ value is 0.033417, and the corresponding average periods is 755.71. The results are different but very close."
      ]
    },
    {
      "cell_type": "markdown",
      "metadata": {
        "id": "i7xxpjqle_jM",
        "colab_type": "text"
      },
      "source": [
        "4.(a) The computation time is 499.4 seconds with the MPI implementation."
      ]
    },
    {
      "cell_type": "code",
      "metadata": {
        "id": "jyblxMH3hxEA",
        "colab_type": "code",
        "outputId": "d85af97b-e7a7-4557-e66e-bb252bc6db4f",
        "colab": {
          "base_uri": "https://localhost:8080/",
          "height": 1000
        }
      },
      "source": [
        "# 4.(a) \n",
        "\n",
        "comm = MPI.COMM_WORLD\n",
        "size = comm.Get_size()\n",
        "rank = comm.Get_rank()\n",
        "\n",
        "t0 = time.time()\n",
        "\n",
        "mu = 3.0\n",
        "sigma = 1.0\n",
        "z_0 = mu\n",
        "S = 1000 # Set the number of lives to simulate\n",
        "T = int(4160) # Set the number of periods for each simulation\n",
        "\n",
        "# Evenly distribute number of simulation runs across processes\n",
        "N = int(S/size)\n",
        "\n",
        "def parallel_function_caller(x,stopp):\n",
        "    stopp[0]=comm.bcast(stopp[0], root=0)\n",
        "    summ=0\n",
        "    if stopp[0]==0:\n",
        "        #your function here in parallel\n",
        "        x=comm.bcast(x, root=0)\n",
        "        #Create an array to store the index for first negative z_t\n",
        "        neg_index = np.full(N,fill_value = T+1)\n",
        "        # Draw all idiosyncratic random shocks and create empty containers\n",
        "        np.random.seed(25)\n",
        "        eps_mat = sts.norm.rvs(loc=0, scale=sigma, size=(T, N))\n",
        "        z_mat = np.zeros((T, N))\n",
        "        for s_ind in range(N):\n",
        "            z_tm1 = z_0\n",
        "            for t_ind in range(T):\n",
        "                e_t = eps_mat[t_ind, s_ind]\n",
        "                z_t = x[0] * z_tm1 + (1 - x[0]) * mu + e_t\n",
        "                z_mat[t_ind, s_ind] = z_t\n",
        "                z_tm1 = z_t\n",
        "                if z_tm1<0:\n",
        "                  if neg_index[s_ind] == T+1:\n",
        "                     neg_index[s_ind] = t_ind+1 \n",
        "        neg_all = comm.gather(neg_index, root = 0)  \n",
        "        summl=np.max(np.mean(neg_all)) \n",
        "        summ=comm.reduce(summl,op=MPI.SUM, root=0)\n",
        "        if rank==0:\n",
        "          print(\"rho value is \"+str(x)+\", average periods is \"+str(summ))\n",
        "    return -summ\n",
        "\n",
        "if rank == 0 :\n",
        "   stop=[0]\n",
        "   x = np.zeros(1)\n",
        "   x[0]=0.1\n",
        "   xs = minimize(parallel_function_caller,x0 = x, args=(stop,), \n",
        "                 method = 'L-BFGS-B', bounds = ((-0.95,0.95),), \n",
        "                 options = {'eps' : 0.2})   #method = 'COBYLA'\n",
        "   print(\"the argmin is \"+str(xs))\n",
        "   stop=[1]\n",
        "   parallel_function_caller(x,stop)\n",
        "   \n",
        "   time_elapsed = time.time() - t0\n",
        "   print(\"Simulated in %f seconds\" % (time_elapsed)) \n",
        "\n",
        "else :\n",
        "   stop=[0]\n",
        "   x=np.zeros(1)\n",
        "   while stop[0]==0:\n",
        "      parallel_function_caller(x,stop)"
      ],
      "execution_count": 4,
      "outputs": [
        {
          "output_type": "stream",
          "text": [
            "rho value is [0.1], average periods is 707.526\n",
            "rho value is [0.3], average periods is 495.326\n",
            "rho value is [-0.95], average periods is 18.534\n",
            "rho value is [-0.75], average periods is 54.116\n",
            "rho value is [-0.06389874], average periods is 734.254\n",
            "rho value is [0.13610126], average periods is 679.333\n",
            "rho value is [-0.12113132], average periods is 720.269\n",
            "rho value is [0.07886868], average periods is 729.871\n",
            "rho value is [-0.07104007], average periods is 727.086\n",
            "rho value is [0.12895993], average periods is 685.278\n",
            "rho value is [-0.06416901], average periods is 734.254\n",
            "rho value is [0.13583099], average periods is 679.333\n",
            "rho value is [-0.06395578], average periods is 734.254\n",
            "rho value is [0.13604422], average periods is 679.333\n",
            "rho value is [-0.06391078], average periods is 734.254\n",
            "rho value is [0.13608922], average periods is 679.333\n",
            "rho value is [-0.06390128], average periods is 734.254\n",
            "rho value is [0.13609872], average periods is 679.333\n",
            "rho value is [-0.06389928], average periods is 734.254\n",
            "rho value is [0.13610072], average periods is 679.333\n",
            "rho value is [-0.06389886], average periods is 734.254\n",
            "rho value is [0.13610114], average periods is 679.333\n",
            "rho value is [-0.06389877], average periods is 734.254\n",
            "rho value is [0.13610123], average periods is 679.333\n",
            "rho value is [-0.06389875], average periods is 734.254\n",
            "rho value is [0.13610125], average periods is 679.333\n",
            "rho value is [-0.06389875], average periods is 734.254\n",
            "rho value is [0.13610125], average periods is 679.333\n",
            "rho value is [-0.06389874], average periods is 734.254\n",
            "rho value is [0.13610126], average periods is 679.333\n",
            "rho value is [-0.06389874], average periods is 734.254\n",
            "rho value is [0.13610126], average periods is 679.333\n",
            "rho value is [-0.06389874], average periods is 734.254\n",
            "rho value is [0.13610126], average periods is 679.333\n",
            "rho value is [-0.06389874], average periods is 734.254\n",
            "rho value is [0.13610126], average periods is 679.333\n",
            "rho value is [-0.06389874], average periods is 734.254\n",
            "rho value is [0.13610126], average periods is 679.333\n",
            "rho value is [-0.06389874], average periods is 734.254\n",
            "rho value is [0.13610126], average periods is 679.333\n",
            "rho value is [-0.06389874], average periods is 734.254\n",
            "rho value is [0.13610126], average periods is 679.333\n",
            "rho value is [-0.06389874], average periods is 734.254\n",
            "rho value is [0.13610126], average periods is 679.333\n",
            "rho value is [-0.06389874], average periods is 734.254\n",
            "rho value is [0.13610126], average periods is 679.333\n",
            "rho value is [-0.95], average periods is 18.534\n",
            "rho value is [-0.75], average periods is 54.116\n",
            "rho value is [-0.10960288], average periods is 733.67\n",
            "rho value is [0.09039712], average periods is 713.748\n",
            "rho value is [-0.07568223], average periods is 729.195\n",
            "rho value is [0.12431777], average periods is 685.613\n",
            "rho value is [-0.0647461], average periods is 733.933\n",
            "rho value is [0.1352539], average periods is 679.333\n",
            "rho value is [-0.06396302], average periods is 734.254\n",
            "rho value is [0.13603698], average periods is 679.333\n",
            "rho value is [-0.06391231], average periods is 734.254\n",
            "rho value is [0.13608769], average periods is 679.333\n",
            "rho value is [-0.06390161], average periods is 734.254\n",
            "rho value is [0.13609839], average periods is 679.333\n",
            "rho value is [-0.06389935], average periods is 734.254\n",
            "rho value is [0.13610065], average periods is 679.333\n",
            "rho value is [-0.06389887], average periods is 734.254\n",
            "rho value is [0.13610113], average periods is 679.333\n",
            "rho value is [-0.06389877], average periods is 734.254\n",
            "rho value is [0.13610123], average periods is 679.333\n",
            "rho value is [-0.06389875], average periods is 734.254\n",
            "rho value is [0.13610125], average periods is 679.333\n",
            "rho value is [-0.06389875], average periods is 734.254\n",
            "rho value is [0.13610125], average periods is 679.333\n",
            "rho value is [-0.06389874], average periods is 734.254\n",
            "rho value is [0.13610126], average periods is 679.333\n",
            "rho value is [-0.06389874], average periods is 734.254\n",
            "rho value is [0.13610126], average periods is 679.333\n",
            "rho value is [-0.06389874], average periods is 734.254\n",
            "rho value is [0.13610126], average periods is 679.333\n",
            "rho value is [-0.06389874], average periods is 734.254\n",
            "rho value is [0.13610126], average periods is 679.333\n",
            "rho value is [-0.06389874], average periods is 734.254\n",
            "rho value is [0.13610126], average periods is 679.333\n",
            "rho value is [-0.06389874], average periods is 734.254\n",
            "rho value is [0.13610126], average periods is 679.333\n",
            "rho value is [-0.06389874], average periods is 734.254\n",
            "rho value is [0.13610126], average periods is 679.333\n",
            "rho value is [-0.06389874], average periods is 734.254\n",
            "rho value is [0.13610126], average periods is 679.333\n",
            "the argmin is       fun: -734.254\n",
            " hess_inv: <1x1 LbfgsInvHessProduct with dtype=float64>\n",
            "      jac: array([274.605])\n",
            "  message: b'ABNORMAL_TERMINATION_IN_LNSRCH'\n",
            "     nfev: 86\n",
            "      nit: 1\n",
            "   status: 2\n",
            "  success: False\n",
            "        x: array([-0.06389874])\n",
            "Simulated in 499.385570 seconds\n"
          ],
          "name": "stdout"
        }
      ]
    },
    {
      "cell_type": "markdown",
      "metadata": {
        "id": "_xybzjtTfWSF",
        "colab_type": "text"
      },
      "source": [
        "4.(b) The computation time using OpenCL is 624.5 seconds. "
      ]
    },
    {
      "cell_type": "code",
      "metadata": {
        "id": "Y0gPND2eEUFZ",
        "colab_type": "code",
        "outputId": "9372985b-b204-493b-8147-3f8122379366",
        "colab": {
          "base_uri": "https://localhost:8080/",
          "height": 1000
        }
      },
      "source": [
        "# 4.(b)\n",
        "\n",
        "ctx = cl.create_some_context()\n",
        "queue = cl.CommandQueue(ctx)\n",
        "\n",
        "t0 = time.time()\n",
        "\n",
        "mu = 3.0\n",
        "sigma = 1.0\n",
        "z_0 = mu\n",
        "S = 1000 # Set the number of lives to simulate\n",
        "T = int(4160) # Set the number of periods for each simulation\n",
        "\n",
        "def parallel_function_caller(x,stopp):\n",
        "    #your function here in parallel\n",
        "    z_mat = np.zeros((T, S), dtype=np.float32)\n",
        "    # Generate array of random shocks\n",
        "    np.random.seed(25)\n",
        "    init_np = np.zeros(S).astype(np.float32) + mu\n",
        "    epsm_np = sts.norm.rvs(loc=0,scale=1.0,size=T*S).astype(np.float32)\n",
        "    init_g = cl.array.to_device(queue, init_np)\n",
        "    epsm_g = cl.array.to_device(queue, epsm_np)\n",
        "    # GPU: Define Segmented Elementwise Kernel\n",
        "    prefix_sum = ElementwiseKernel(ctx,\n",
        "               \"float *a_g, float *b_g, float *res_g, float x, float mu\",\n",
        "               \"res_g[i] = x * a_g[i]+(1-x)*mu + b_g[i]\")\n",
        "    # Allocate space for result of kernel on device\n",
        "    dev_result = cl_array.empty_like(epsm_g)\n",
        "    # Enqueue and Run Elementwise Kernel\n",
        "    prefix_sum(init_g, epsm_g[:S], dev_result[:S], x, mu)\n",
        "    [prefix_sum(dev_result[S*(i-1):S*i], epsm_g[S*i:S*(i+1)],\n",
        "          dev_result[S*i:S*(i+1)], x, mu) for i in range(1,T)]\n",
        "    # Get results back on CPU\n",
        "    z_all = dev_result.get().reshape(T,S)\n",
        "    # Create an array to store the index for first negative z_t\n",
        "    neg_index = np.full(S,fill_value = T+1)\n",
        "    # Print simulation results\n",
        "    for s in range(S):\n",
        "        for t in range(T):\n",
        "            if z_all[t,s] < 0:\n",
        "               if neg_index[s] == T+1:\n",
        "                  neg_index[s] = t+1\n",
        "    print(\"rho value is \"+str(x)+\", average periods is \"+str(np.mean(neg_index)))\n",
        "    return -np.mean(neg_index)\n",
        "\n",
        "stop=[0]\n",
        "x = np.zeros(1)\n",
        "x[0]=0.1\n",
        "xs = minimize(parallel_function_caller,x0 = x, args=(stop,), \n",
        "                 method = 'L-BFGS-B', bounds = ((-0.95,0.95),), \n",
        "                 options = {'eps' : 0.2}) #method = 'COBYLA'\n",
        "print(str(xs))\n",
        "stop=[1]\n",
        "parallel_function_caller(x,stop)\n",
        "\n",
        "time_elapsed = time.time() - t0\n",
        "print(\"Simulated in %f seconds\" % (time_elapsed))"
      ],
      "execution_count": 3,
      "outputs": [
        {
          "output_type": "stream",
          "text": [
            "rho value is [0.1], average periods is 707.526\n",
            "rho value is [0.3], average periods is 495.326\n",
            "rho value is [-0.95], average periods is 18.534\n",
            "rho value is [-0.75], average periods is 54.116\n",
            "rho value is [-0.06389874], average periods is 734.254\n",
            "rho value is [0.13610126], average periods is 679.333\n",
            "rho value is [-0.12113132], average periods is 720.269\n",
            "rho value is [0.07886868], average periods is 729.871\n",
            "rho value is [-0.07104007], average periods is 727.086\n",
            "rho value is [0.12895993], average periods is 685.278\n",
            "rho value is [-0.06416901], average periods is 734.254\n",
            "rho value is [0.13583099], average periods is 679.333\n",
            "rho value is [-0.06395578], average periods is 734.254\n",
            "rho value is [0.13604422], average periods is 679.333\n",
            "rho value is [-0.06391078], average periods is 734.254\n",
            "rho value is [0.13608922], average periods is 679.333\n",
            "rho value is [-0.06390128], average periods is 734.254\n",
            "rho value is [0.13609872], average periods is 679.333\n",
            "rho value is [-0.06389928], average periods is 734.254\n",
            "rho value is [0.13610072], average periods is 679.333\n",
            "rho value is [-0.06389886], average periods is 734.254\n",
            "rho value is [0.13610114], average periods is 679.333\n",
            "rho value is [-0.06389877], average periods is 734.254\n",
            "rho value is [0.13610123], average periods is 679.333\n",
            "rho value is [-0.06389875], average periods is 734.254\n",
            "rho value is [0.13610125], average periods is 679.333\n",
            "rho value is [-0.06389875], average periods is 734.254\n",
            "rho value is [0.13610125], average periods is 679.333\n",
            "rho value is [-0.06389874], average periods is 734.254\n",
            "rho value is [0.13610126], average periods is 679.333\n",
            "rho value is [-0.06389874], average periods is 734.254\n",
            "rho value is [0.13610126], average periods is 679.333\n",
            "rho value is [-0.06389874], average periods is 734.254\n",
            "rho value is [0.13610126], average periods is 679.333\n",
            "rho value is [-0.06389874], average periods is 734.254\n",
            "rho value is [0.13610126], average periods is 679.333\n",
            "rho value is [-0.06389874], average periods is 734.254\n",
            "rho value is [0.13610126], average periods is 679.333\n",
            "rho value is [-0.06389874], average periods is 734.254\n",
            "rho value is [0.13610126], average periods is 679.333\n",
            "rho value is [-0.06389874], average periods is 734.254\n",
            "rho value is [0.13610126], average periods is 679.333\n",
            "rho value is [-0.06389874], average periods is 734.254\n",
            "rho value is [0.13610126], average periods is 679.333\n",
            "rho value is [-0.06389874], average periods is 734.254\n",
            "rho value is [0.13610126], average periods is 679.333\n",
            "rho value is [-0.95], average periods is 18.534\n",
            "rho value is [-0.75], average periods is 54.116\n",
            "rho value is [-0.10960288], average periods is 733.67\n",
            "rho value is [0.09039712], average periods is 713.748\n",
            "rho value is [-0.07568223], average periods is 729.195\n",
            "rho value is [0.12431777], average periods is 685.613\n",
            "rho value is [-0.0647461], average periods is 733.933\n",
            "rho value is [0.1352539], average periods is 679.333\n",
            "rho value is [-0.06396302], average periods is 734.254\n",
            "rho value is [0.13603698], average periods is 679.333\n",
            "rho value is [-0.06391231], average periods is 734.254\n",
            "rho value is [0.13608769], average periods is 679.333\n",
            "rho value is [-0.06390161], average periods is 734.254\n",
            "rho value is [0.13609839], average periods is 679.333\n",
            "rho value is [-0.06389935], average periods is 734.254\n",
            "rho value is [0.13610065], average periods is 679.333\n",
            "rho value is [-0.06389887], average periods is 734.254\n",
            "rho value is [0.13610113], average periods is 679.333\n",
            "rho value is [-0.06389877], average periods is 734.254\n",
            "rho value is [0.13610123], average periods is 679.333\n",
            "rho value is [-0.06389875], average periods is 734.254\n",
            "rho value is [0.13610125], average periods is 679.333\n",
            "rho value is [-0.06389875], average periods is 734.254\n",
            "rho value is [0.13610125], average periods is 679.333\n",
            "rho value is [-0.06389874], average periods is 734.254\n",
            "rho value is [0.13610126], average periods is 679.333\n",
            "rho value is [-0.06389874], average periods is 734.254\n",
            "rho value is [0.13610126], average periods is 679.333\n",
            "rho value is [-0.06389874], average periods is 734.254\n",
            "rho value is [0.13610126], average periods is 679.333\n",
            "rho value is [-0.06389874], average periods is 734.254\n",
            "rho value is [0.13610126], average periods is 679.333\n",
            "rho value is [-0.06389874], average periods is 734.254\n",
            "rho value is [0.13610126], average periods is 679.333\n",
            "rho value is [-0.06389874], average periods is 734.254\n",
            "rho value is [0.13610126], average periods is 679.333\n",
            "rho value is [-0.06389874], average periods is 734.254\n",
            "rho value is [0.13610126], average periods is 679.333\n",
            "rho value is [-0.06389874], average periods is 734.254\n",
            "rho value is [0.13610126], average periods is 679.333\n",
            "      fun: -734.254\n",
            " hess_inv: <1x1 LbfgsInvHessProduct with dtype=float64>\n",
            "      jac: array([274.605])\n",
            "  message: b'ABNORMAL_TERMINATION_IN_LNSRCH'\n",
            "     nfev: 86\n",
            "      nit: 1\n",
            "   status: 2\n",
            "  success: False\n",
            "        x: array([-0.06389874])\n",
            "rho value is [0.1], average periods is 707.526\n",
            "Simulated in 624.524277 seconds\n"
          ],
          "name": "stdout"
        }
      ]
    },
    {
      "cell_type": "markdown",
      "metadata": {
        "id": "3hoE7OQteAHN",
        "colab_type": "text"
      },
      "source": [
        "4.(c) With the same random seed, the results from the MPI and the OpenCL implementations are the same: the optimal rho value is -0.06389874, and the corresponding average periods is 734.254."
      ]
    },
    {
      "cell_type": "markdown",
      "metadata": {
        "id": "NOnltlowfl-x",
        "colab_type": "text"
      },
      "source": [
        "4.(d) Compared with question 3, the computation in question 4 takes much less time. This method is faster than the grid search because it starts with a initial guess of the optimal value of $\\rho$. This minimizer method no longer needs to loop over all 200 values of $\\rho$, so it is able to find the optimal $\\rho$ with running far less than 200 times of the same type of 1000 simulations."
      ]
    }
  ]
}